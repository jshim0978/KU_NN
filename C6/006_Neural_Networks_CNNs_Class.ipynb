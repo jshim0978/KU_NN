{
 "cells": [
  {
   "cell_type": "code",
   "execution_count": 1,
   "metadata": {
    "id": "xCN2IpDuy6PA",
    "ExecuteTime": {
     "end_time": "2023-11-09T01:21:28.430656100Z",
     "start_time": "2023-11-09T01:21:22.538077200Z"
    }
   },
   "outputs": [
    {
     "data": {
      "text/plain": "<torch._C.Generator at 0x2199afa3b50>"
     },
     "execution_count": 1,
     "metadata": {},
     "output_type": "execute_result"
    }
   ],
   "source": [
    "%matplotlib inline\n",
    "from matplotlib import pyplot as plt\n",
    "import numpy as np\n",
    "import collections\n",
    "\n",
    "import torch\n",
    "import torch.nn as nn\n",
    "import torch.nn.functional as F\n",
    "import torch.optim as optim\n",
    "\n",
    "torch.set_printoptions(edgeitems=2)\n",
    "torch.manual_seed(42)"
   ]
  },
  {
   "cell_type": "markdown",
   "metadata": {
    "id": "vaXoE0F7y6PB"
   },
   "source": [
    "In this notebook, we will take a look at convolutional neural networks and implement some examples to get a better feeling of how they work.\n",
    "\n",
    "As we have discussed, a CNN is defined by banks of filters that are passed (convolved) over the image. The output of the filters is then typically pooled to reduce the spatial dimension, and then passed into another set of filters.\n",
    "\n",
    "The first such network was the famous LeNet, built by Yann LeCun in the late 1980s:\n",
    "\n",
    "![LeNet](lenet.png)\n",
    "\n",
    "The network that re-ignited the interest in CNNs was the AlexNet built in 2012:\n",
    "\n",
    "![AlexNet](alexnet.jpeg)"
   ]
  },
  {
   "cell_type": "markdown",
   "metadata": {
    "id": "Ank0xVzty6PB"
   },
   "source": [
    "# Classifying objects\n",
    "\n",
    "In the following, we will use the old-school CIFAR-10 dataset that contains low-resolution pictures of objects of 10 categories. This - and other - dataset is available as part of the `torchvision` package, which you should install."
   ]
  },
  {
   "cell_type": "code",
   "execution_count": 2,
   "metadata": {
    "id": "FDaigLaAy6PC",
    "ExecuteTime": {
     "end_time": "2023-11-09T01:29:29.895355200Z",
     "start_time": "2023-11-09T01:29:29.864836400Z"
    }
   },
   "outputs": [],
   "source": [
    "class_names = ['airplane','automobile','bird','cat','deer',\n",
    "               'dog','frog','horse','ship','truck']"
   ]
  },
  {
   "cell_type": "code",
   "execution_count": 4,
   "metadata": {
    "id": "-ex35Z5Ay6PC",
    "ExecuteTime": {
     "end_time": "2023-11-09T01:32:30.849637800Z",
     "start_time": "2023-11-09T01:32:06.142050500Z"
    }
   },
   "outputs": [
    {
     "name": "stdout",
     "output_type": "stream",
     "text": [
      "Downloading https://www.cs.toronto.edu/~kriz/cifar-10-python.tar.gz to ./cifar-10-python.tar.gz\n"
     ]
    },
    {
     "name": "stderr",
     "output_type": "stream",
     "text": [
      "100.0%\n"
     ]
    },
    {
     "name": "stdout",
     "output_type": "stream",
     "text": [
      "Extracting ./cifar-10-python.tar.gz to ./\n"
     ]
    }
   ],
   "source": [
    "from torchvision import datasets, transforms, utils\n",
    "# where to put the data\n",
    "data_path = './'\n",
    "\n",
    "# this constructs a CIFAR10 dataset, selects the training part of it,\n",
    "# downloads it if necessary, and adds additional transforms that we\n",
    "# will need to convert each image to a pytorch tensor AND to provide\n",
    "# a nice conversion of the RGB images into greyscale\n",
    "cifar10 =  datasets.CIFAR10(\n",
    "    data_path, train=True, download=True,\n",
    "    transform=transforms.Compose([\n",
    "        transforms.ToTensor(),\n",
    "        transforms.Normalize((0.4915, 0.4823, 0.4468),\n",
    "                             (0.2470, 0.2435, 0.2616))\n",
    "    ]))"
   ]
  },
  {
   "cell_type": "markdown",
   "metadata": {
    "id": "kIffZV2By6PC"
   },
   "source": [
    "This has now downloaded the images if not already done so - you will notice that this is quite a \"hefty\" dataset already at 170MB. Now let's download our validation set or test set."
   ]
  },
  {
   "cell_type": "code",
   "execution_count": 6,
   "metadata": {
    "id": "3vU7yy-xy6PC",
    "ExecuteTime": {
     "end_time": "2023-11-09T01:33:30.184593100Z",
     "start_time": "2023-11-09T01:33:29.368278800Z"
    }
   },
   "outputs": [
    {
     "name": "stdout",
     "output_type": "stream",
     "text": [
      "Files already downloaded and verified\n"
     ]
    }
   ],
   "source": [
    "cifar10_val = datasets.CIFAR10(\n",
    "    data_path, train=False, download=True,\n",
    "    transform=transforms.Compose([\n",
    "        transforms.ToTensor(),\n",
    "        transforms.Normalize((0.4915, 0.4823, 0.4468),\n",
    "                             (0.2470, 0.2435, 0.2616))\n",
    "    ]))"
   ]
  },
  {
   "cell_type": "markdown",
   "metadata": {
    "id": "_ca9fD0ry6PC"
   },
   "source": [
    "## Two-class problem\n",
    "\n",
    "Let's make it simple first and classify just two classes for fun. We will be creating two smaller versions of the datasets and remap the label numbers."
   ]
  },
  {
   "cell_type": "code",
   "execution_count": 7,
   "metadata": {
    "id": "B00eXcMYy6PD",
    "ExecuteTime": {
     "end_time": "2023-11-09T01:33:45.060132800Z",
     "start_time": "2023-11-09T01:33:31.928557800Z"
    }
   },
   "outputs": [],
   "source": [
    "label_map = {0: 0, 2: 1}\n",
    "class_names = ['airplane', 'bird']\n",
    "cifar2 = [(img, label_map[label])\n",
    "          for img, label in cifar10\n",
    "          if label in [0, 2]]\n",
    "cifar2_val = [(img, label_map[label])\n",
    "              for img, label in cifar10_val\n",
    "              if label in [0, 2]]"
   ]
  },
  {
   "cell_type": "markdown",
   "metadata": {
    "id": "a0PfvOdNy6PD"
   },
   "source": [
    "## Two-class problem with fully-connected networks\n",
    "\n",
    "Let's make it simple again and try to train a standard, fully-connected neural network. We know that we need some hidden layer, so let's get one with 512 neurons and connect that to an output layer that uses the `LogSoftmax` final output from Pytorch, which - when combined with a `NLLLoss` gives us exactly cross entropy.\n",
    "\n",
    "This is a bit confusingly defined in pytorch, and most models - as we will see below - do this in a different way to make it easier to set up the classification problem with a cross-entropy loss."
   ]
  },
  {
   "cell_type": "code",
   "execution_count": 9,
   "metadata": {
    "id": "fRmnnVkmy6PD",
    "ExecuteTime": {
     "end_time": "2023-11-09T01:34:02.722909600Z",
     "start_time": "2023-11-09T01:34:02.620666400Z"
    }
   },
   "outputs": [
    {
     "data": {
      "text/plain": "(1574402, [1572864, 512, 1024, 2])"
     },
     "execution_count": 9,
     "metadata": {},
     "output_type": "execute_result"
    }
   ],
   "source": [
    "first_model = nn.Sequential(\n",
    "    nn.Linear(3072, 512),\n",
    "    nn.Tanh(),\n",
    "    nn.Linear(512, 2),\n",
    "    nn.LogSoftmax(dim=1))\n",
    "\n",
    "numel_list = [p.numel() for p in first_model.parameters()]\n",
    "sum(numel_list), numel_list"
   ]
  },
  {
   "cell_type": "markdown",
   "metadata": {
    "id": "QV3A5KK0y6PD"
   },
   "source": [
    "### Dataloaders\n",
    "\n",
    "This is a very nice convenience function that allows you to stick a properly prepared dataset and automatically use it to load batches from it for training and testing."
   ]
  },
  {
   "cell_type": "code",
   "execution_count": 10,
   "metadata": {
    "id": "w44QRuK_y6PD",
    "ExecuteTime": {
     "end_time": "2023-11-09T01:34:31.669625400Z",
     "start_time": "2023-11-09T01:34:31.545367400Z"
    }
   },
   "outputs": [],
   "source": [
    "train_loader = torch.utils.data.DataLoader(cifar2, batch_size=64, shuffle=True)"
   ]
  },
  {
   "cell_type": "markdown",
   "metadata": {
    "id": "9dDiw5dUy6PD"
   },
   "source": [
    "So, now let's define our training loop combining the softmax loss with a negative log likelihood loss to get our overall cross-entropy type classification going:"
   ]
  },
  {
   "cell_type": "code",
   "execution_count": 11,
   "metadata": {
    "id": "ukumuCCAy6PD",
    "ExecuteTime": {
     "end_time": "2023-11-09T01:36:27.162486300Z",
     "start_time": "2023-11-09T01:34:43.352098700Z"
    }
   },
   "outputs": [
    {
     "name": "stdout",
     "output_type": "stream",
     "text": [
      "Epoch: 0, Loss: 0.474819\n",
      "Epoch: 1, Loss: 0.281294\n",
      "Epoch: 2, Loss: 0.532767\n",
      "Epoch: 3, Loss: 0.703840\n",
      "Epoch: 4, Loss: 0.637057\n",
      "Epoch: 5, Loss: 0.293572\n",
      "Epoch: 6, Loss: 0.442983\n",
      "Epoch: 7, Loss: 0.454170\n",
      "Epoch: 8, Loss: 0.223838\n",
      "Epoch: 9, Loss: 0.397415\n",
      "Epoch: 10, Loss: 0.299176\n",
      "Epoch: 11, Loss: 0.352056\n",
      "Epoch: 12, Loss: 0.253029\n",
      "Epoch: 13, Loss: 0.234517\n",
      "Epoch: 14, Loss: 0.168960\n",
      "Epoch: 15, Loss: 0.215394\n",
      "Epoch: 16, Loss: 0.141173\n",
      "Epoch: 17, Loss: 0.452234\n",
      "Epoch: 18, Loss: 0.373207\n",
      "Epoch: 19, Loss: 0.231367\n",
      "Epoch: 20, Loss: 0.428932\n",
      "Epoch: 21, Loss: 0.257102\n",
      "Epoch: 22, Loss: 0.162273\n",
      "Epoch: 23, Loss: 0.151934\n",
      "Epoch: 24, Loss: 0.267510\n",
      "Epoch: 25, Loss: 0.346485\n",
      "Epoch: 26, Loss: 0.190525\n",
      "Epoch: 27, Loss: 0.217803\n",
      "Epoch: 28, Loss: 0.258378\n",
      "Epoch: 29, Loss: 0.121026\n",
      "Epoch: 30, Loss: 0.326386\n",
      "Epoch: 31, Loss: 0.213834\n",
      "Epoch: 32, Loss: 0.180499\n",
      "Epoch: 33, Loss: 0.172872\n",
      "Epoch: 34, Loss: 0.101905\n",
      "Epoch: 35, Loss: 0.513520\n",
      "Epoch: 36, Loss: 0.112536\n",
      "Epoch: 37, Loss: 0.215815\n",
      "Epoch: 38, Loss: 0.047458\n",
      "Epoch: 39, Loss: 0.136678\n",
      "Epoch: 40, Loss: 0.137229\n",
      "Epoch: 41, Loss: 0.060840\n",
      "Epoch: 42, Loss: 0.200405\n",
      "Epoch: 43, Loss: 0.063708\n",
      "Epoch: 44, Loss: 0.213558\n",
      "Epoch: 45, Loss: 0.207551\n",
      "Epoch: 46, Loss: 0.077132\n",
      "Epoch: 47, Loss: 0.095556\n",
      "Epoch: 48, Loss: 0.109909\n",
      "Epoch: 49, Loss: 0.043165\n",
      "Epoch: 50, Loss: 0.096743\n",
      "Epoch: 51, Loss: 0.125884\n",
      "Epoch: 52, Loss: 0.226015\n",
      "Epoch: 53, Loss: 0.100809\n",
      "Epoch: 54, Loss: 0.086488\n",
      "Epoch: 55, Loss: 0.019573\n",
      "Epoch: 56, Loss: 0.065012\n",
      "Epoch: 57, Loss: 0.161972\n",
      "Epoch: 58, Loss: 0.034437\n",
      "Epoch: 59, Loss: 0.159283\n",
      "Epoch: 60, Loss: 0.019762\n",
      "Epoch: 61, Loss: 0.122489\n",
      "Epoch: 62, Loss: 0.024422\n",
      "Epoch: 63, Loss: 0.091041\n",
      "Epoch: 64, Loss: 0.076514\n",
      "Epoch: 65, Loss: 0.050314\n",
      "Epoch: 66, Loss: 0.055197\n",
      "Epoch: 67, Loss: 0.030331\n",
      "Epoch: 68, Loss: 0.041226\n",
      "Epoch: 69, Loss: 0.058303\n",
      "Epoch: 70, Loss: 0.042786\n",
      "Epoch: 71, Loss: 0.024384\n",
      "Epoch: 72, Loss: 0.051688\n",
      "Epoch: 73, Loss: 0.078506\n",
      "Epoch: 74, Loss: 0.027632\n",
      "Epoch: 75, Loss: 0.017047\n",
      "Epoch: 76, Loss: 0.022648\n",
      "Epoch: 77, Loss: 0.033268\n",
      "Epoch: 78, Loss: 0.052126\n",
      "Epoch: 79, Loss: 0.032625\n",
      "Epoch: 80, Loss: 0.039776\n",
      "Epoch: 81, Loss: 0.032945\n",
      "Epoch: 82, Loss: 0.046288\n",
      "Epoch: 83, Loss: 0.014836\n",
      "Epoch: 84, Loss: 0.019019\n",
      "Epoch: 85, Loss: 0.026322\n",
      "Epoch: 86, Loss: 0.013815\n",
      "Epoch: 87, Loss: 0.016890\n",
      "Epoch: 88, Loss: 0.025962\n",
      "Epoch: 89, Loss: 0.011635\n",
      "Epoch: 90, Loss: 0.021314\n",
      "Epoch: 91, Loss: 0.031315\n",
      "Epoch: 92, Loss: 0.007726\n",
      "Epoch: 93, Loss: 0.010387\n",
      "Epoch: 94, Loss: 0.018081\n",
      "Epoch: 95, Loss: 0.011876\n",
      "Epoch: 96, Loss: 0.016853\n",
      "Epoch: 97, Loss: 0.018058\n",
      "Epoch: 98, Loss: 0.022013\n",
      "Epoch: 99, Loss: 0.012651\n"
     ]
    }
   ],
   "source": [
    "learning_rate = 1e-2\n",
    "optimizer = optim.SGD(first_model.parameters(), lr=learning_rate)\n",
    "loss_fn = nn.NLLLoss()\n",
    "n_epochs = 100\n",
    "\n",
    "for epoch in range(n_epochs):\n",
    "    for imgs, labels in train_loader:\n",
    "        batch_size = imgs.shape[0]\n",
    "        outputs = first_model(imgs.view(batch_size, -1))\n",
    "        loss = loss_fn(outputs, labels)\n",
    "        optimizer.zero_grad()\n",
    "        loss.backward()\n",
    "        optimizer.step()\n",
    "    print(\"Epoch: %d, Loss: %f\" % (epoch, float(loss)))"
   ]
  },
  {
   "cell_type": "markdown",
   "metadata": {
    "id": "uOcqNj_5y6PE"
   },
   "source": [
    "This seems to \"nicely\" reduce the loss. But of course this loss is not the same as accuracy as we discussed before. So, let's evaluate the accuracy on our validation set:"
   ]
  },
  {
   "cell_type": "code",
   "execution_count": 12,
   "metadata": {
    "id": "JxltMncyy6PE",
    "ExecuteTime": {
     "end_time": "2023-11-09T01:38:07.734670800Z",
     "start_time": "2023-11-09T01:38:07.564767700Z"
    }
   },
   "outputs": [
    {
     "name": "stdout",
     "output_type": "stream",
     "text": [
      "Accuracy: 0.8195\n"
     ]
    }
   ],
   "source": [
    "val_loader = torch.utils.data.DataLoader(cifar2_val, batch_size=64, shuffle=False)\n",
    "correct = 0\n",
    "total = 0\n",
    "with torch.no_grad():\n",
    "    for imgs, labels in val_loader:\n",
    "        batch_size = imgs.shape[0]\n",
    "        outputs = first_model(imgs.view(batch_size, -1))\n",
    "        _, predicted = torch.max(outputs, dim=1)\n",
    "        total += labels.shape[0]\n",
    "        correct += int((predicted == labels).sum())\n",
    "\n",
    "print(\"Accuracy:\", correct / total)"
   ]
  },
  {
   "cell_type": "markdown",
   "metadata": {
    "id": "fhgOt7u1y6PE"
   },
   "source": [
    "Depending on the run, this will result in a performance of around 80% - certainly not perfect, but also not fully random.\n",
    "\n",
    "Can we do better? Of course, let's go deep! More parameters, more layers, more features that can be discovered."
   ]
  },
  {
   "cell_type": "code",
   "execution_count": 13,
   "metadata": {
    "id": "Z-1n_ja8y6PE",
    "ExecuteTime": {
     "end_time": "2023-11-09T01:38:21.997529800Z",
     "start_time": "2023-11-09T01:38:21.869705500Z"
    }
   },
   "outputs": [],
   "source": [
    "connected_model = nn.Sequential(\n",
    "            nn.Linear(3072, 1024),\n",
    "            nn.Tanh(),\n",
    "            nn.Linear(1024, 512),\n",
    "            nn.Tanh(),\n",
    "            nn.Linear(512, 128),\n",
    "            nn.Tanh(),\n",
    "            nn.Linear(128, 2))\n",
    "loss_fn = nn.CrossEntropyLoss()"
   ]
  },
  {
   "cell_type": "markdown",
   "metadata": {
    "id": "mh3vfJWmy6PE"
   },
   "source": [
    "So, here we have a model that goes nicely deeper, reducing the number of hidden layer neurons by factors of two each time and culminating in the two-outputs for the neurons.\n",
    "\n",
    "We have also now included a linear layer as our final output and directly use the cross-entropy loss function. When doing so, the only downside is that we cannot of course interpret the outputs of our final, linear layer as probabilities for class membership (as is possible in our previous architecture!).\n",
    "\n",
    "How many parameters do we have now?"
   ]
  },
  {
   "cell_type": "code",
   "execution_count": 14,
   "metadata": {
    "id": "tLMIboU2y6PE",
    "ExecuteTime": {
     "end_time": "2023-11-09T01:38:24.087867300Z",
     "start_time": "2023-11-09T01:38:23.993512600Z"
    }
   },
   "outputs": [
    {
     "data": {
      "text/plain": "(3737474, [3145728, 1024, 524288, 512, 65536, 128, 256, 2])"
     },
     "execution_count": 14,
     "metadata": {},
     "output_type": "execute_result"
    }
   ],
   "source": [
    "numel_list = [p.numel()\n",
    "              for p in connected_model.parameters()\n",
    "              if p.requires_grad == True]\n",
    "sum(numel_list), numel_list"
   ]
  },
  {
   "cell_type": "markdown",
   "metadata": {
    "id": "JDxlh-Zsy6PE"
   },
   "source": [
    "That's a LOT. Over 3 million parameters to train. And of course the first hidden layer with 1024 hidden neurons has the most parameters, as it connects each pixel (3072) to each neuron.\n",
    "\n",
    "So that's of course 3072 * 1024 + 1024 parameters, which we can check directly like so:"
   ]
  },
  {
   "cell_type": "code",
   "execution_count": 15,
   "metadata": {
    "id": "jAyS0yu2y6PE",
    "ExecuteTime": {
     "end_time": "2023-11-09T01:38:30.994620600Z",
     "start_time": "2023-11-09T01:38:30.869355700Z"
    }
   },
   "outputs": [
    {
     "data": {
      "text/plain": "(torch.Size([1024, 3072]), torch.Size([1024]))"
     },
     "execution_count": 15,
     "metadata": {},
     "output_type": "execute_result"
    }
   ],
   "source": [
    "linear = nn.Linear(3072, 1024)\n",
    "\n",
    "linear.weight.shape, linear.bias.shape"
   ]
  },
  {
   "cell_type": "markdown",
   "metadata": {
    "id": "1gAP-cVby6PE"
   },
   "source": [
    "Let's train this biggy:"
   ]
  },
  {
   "cell_type": "code",
   "execution_count": 16,
   "metadata": {
    "id": "mQvJ2q9ny6PE",
    "ExecuteTime": {
     "end_time": "2023-11-09T01:42:31.915920400Z",
     "start_time": "2023-11-09T01:38:39.656424100Z"
    }
   },
   "outputs": [
    {
     "name": "stdout",
     "output_type": "stream",
     "text": [
      "Epoch: 0, Loss: 0.517441\n",
      "Epoch: 1, Loss: 0.374051\n",
      "Epoch: 2, Loss: 0.550148\n",
      "Epoch: 3, Loss: 0.304952\n",
      "Epoch: 4, Loss: 0.612046\n",
      "Epoch: 5, Loss: 0.615093\n",
      "Epoch: 6, Loss: 0.309578\n",
      "Epoch: 7, Loss: 0.273005\n",
      "Epoch: 8, Loss: 0.307623\n",
      "Epoch: 9, Loss: 0.640262\n",
      "Epoch: 10, Loss: 0.457685\n",
      "Epoch: 11, Loss: 0.282848\n",
      "Epoch: 12, Loss: 0.552834\n",
      "Epoch: 13, Loss: 0.356408\n",
      "Epoch: 14, Loss: 0.666543\n",
      "Epoch: 15, Loss: 0.166197\n",
      "Epoch: 16, Loss: 0.395621\n",
      "Epoch: 17, Loss: 0.349817\n",
      "Epoch: 18, Loss: 0.136748\n",
      "Epoch: 19, Loss: 0.287811\n",
      "Epoch: 20, Loss: 0.321492\n",
      "Epoch: 21, Loss: 0.645440\n",
      "Epoch: 22, Loss: 0.785450\n",
      "Epoch: 23, Loss: 0.096930\n",
      "Epoch: 24, Loss: 0.152845\n",
      "Epoch: 25, Loss: 0.340590\n",
      "Epoch: 26, Loss: 0.335306\n",
      "Epoch: 27, Loss: 0.228111\n",
      "Epoch: 28, Loss: 0.186797\n",
      "Epoch: 29, Loss: 0.203634\n",
      "Epoch: 30, Loss: 0.149932\n",
      "Epoch: 31, Loss: 0.086028\n",
      "Epoch: 32, Loss: 0.098715\n",
      "Epoch: 33, Loss: 0.134205\n",
      "Epoch: 34, Loss: 0.329507\n",
      "Epoch: 35, Loss: 0.472854\n",
      "Epoch: 36, Loss: 0.180600\n",
      "Epoch: 37, Loss: 0.105622\n",
      "Epoch: 38, Loss: 0.121821\n",
      "Epoch: 39, Loss: 0.069392\n",
      "Epoch: 40, Loss: 0.038031\n",
      "Epoch: 41, Loss: 0.158183\n",
      "Epoch: 42, Loss: 0.050637\n",
      "Epoch: 43, Loss: 0.031229\n",
      "Epoch: 44, Loss: 0.067778\n",
      "Epoch: 45, Loss: 0.119259\n",
      "Epoch: 46, Loss: 0.040013\n",
      "Epoch: 47, Loss: 0.120987\n",
      "Epoch: 48, Loss: 0.071995\n",
      "Epoch: 49, Loss: 0.036275\n",
      "Epoch: 50, Loss: 0.209267\n",
      "Epoch: 51, Loss: 0.013184\n",
      "Epoch: 52, Loss: 0.039670\n",
      "Epoch: 53, Loss: 0.038460\n",
      "Epoch: 54, Loss: 0.053954\n",
      "Epoch: 55, Loss: 0.025081\n",
      "Epoch: 56, Loss: 0.212169\n",
      "Epoch: 57, Loss: 0.014023\n",
      "Epoch: 58, Loss: 0.029432\n",
      "Epoch: 59, Loss: 0.001924\n",
      "Epoch: 60, Loss: 0.025524\n",
      "Epoch: 61, Loss: 0.012582\n",
      "Epoch: 62, Loss: 0.054825\n",
      "Epoch: 63, Loss: 0.071038\n",
      "Epoch: 64, Loss: 0.162050\n",
      "Epoch: 65, Loss: 0.004031\n",
      "Epoch: 66, Loss: 0.114224\n",
      "Epoch: 67, Loss: 0.120622\n",
      "Epoch: 68, Loss: 0.019500\n",
      "Epoch: 69, Loss: 0.020750\n",
      "Epoch: 70, Loss: 0.009093\n",
      "Epoch: 71, Loss: 0.002226\n",
      "Epoch: 72, Loss: 0.002370\n",
      "Epoch: 73, Loss: 0.041134\n",
      "Epoch: 74, Loss: 0.002158\n",
      "Epoch: 75, Loss: 0.003729\n",
      "Epoch: 76, Loss: 0.003496\n",
      "Epoch: 77, Loss: 0.007887\n",
      "Epoch: 78, Loss: 0.002010\n",
      "Epoch: 79, Loss: 0.001593\n",
      "Epoch: 80, Loss: 0.009533\n",
      "Epoch: 81, Loss: 0.000871\n",
      "Epoch: 82, Loss: 0.007460\n",
      "Epoch: 83, Loss: 0.003924\n",
      "Epoch: 84, Loss: 0.001515\n",
      "Epoch: 85, Loss: 0.012115\n",
      "Epoch: 86, Loss: 0.000153\n",
      "Epoch: 87, Loss: 0.001352\n",
      "Epoch: 88, Loss: 0.000632\n",
      "Epoch: 89, Loss: 0.001197\n",
      "Epoch: 90, Loss: 0.000883\n",
      "Epoch: 91, Loss: 0.000589\n",
      "Epoch: 92, Loss: 0.000454\n",
      "Epoch: 93, Loss: 0.004196\n",
      "Epoch: 94, Loss: 0.006102\n",
      "Epoch: 95, Loss: 0.001499\n",
      "Epoch: 96, Loss: 0.002194\n",
      "Epoch: 97, Loss: 0.000606\n",
      "Epoch: 98, Loss: 0.001346\n",
      "Epoch: 99, Loss: 0.000099\n"
     ]
    }
   ],
   "source": [
    "learning_rate = 1e-2\n",
    "optimizer = optim.SGD(connected_model.parameters(), lr=learning_rate)\n",
    "n_epochs = 100\n",
    "\n",
    "for epoch in range(n_epochs):\n",
    "    for imgs, labels in train_loader:\n",
    "        batch_size = imgs.shape[0]\n",
    "        outputs = connected_model(imgs.view(batch_size, -1))\n",
    "        loss = loss_fn(outputs, labels)\n",
    "        optimizer.zero_grad()\n",
    "        loss.backward()\n",
    "        optimizer.step()\n",
    "    print(\"Epoch: %d, Loss: %f\" % (epoch, float(loss)))"
   ]
  },
  {
   "cell_type": "code",
   "execution_count": 17,
   "metadata": {
    "id": "n_9Ybel0y6PF",
    "ExecuteTime": {
     "end_time": "2023-11-09T01:42:32.095200500Z",
     "start_time": "2023-11-09T01:42:31.919919300Z"
    }
   },
   "outputs": [
    {
     "name": "stdout",
     "output_type": "stream",
     "text": [
      "Accuracy: 0.8105\n"
     ]
    }
   ],
   "source": [
    "correct = 0\n",
    "total = 0\n",
    "with torch.no_grad():\n",
    "    for imgs, labels in val_loader:\n",
    "        batch_size = imgs.shape[0]\n",
    "        outputs = connected_model(imgs.view(batch_size, -1))\n",
    "        _, predicted = torch.max(outputs, dim=1)\n",
    "        total += labels.shape[0]\n",
    "        correct += int((predicted == labels).sum())\n",
    "\n",
    "print(\"Accuracy:\", correct / total)"
   ]
  },
  {
   "cell_type": "markdown",
   "metadata": {
    "id": "WULoYhe6y6PF"
   },
   "source": [
    "We have not achieved a massive reduction in validation error - even though in most cases, we will be able to reduce the **training** error to 0.\n",
    "\n",
    "So, we are massively overfitting our training set, apparently, producing a model that can perfectly \"remember\" all the relationships between pixels for the training data, but fails to generalize properly to the validation/test data.\n",
    "\n",
    "Why is this again?\n",
    "\n",
    "It is because our network, for example, cannot deal with something as simple as a translation of image content. Our network has been trained to capture the distribution of the exact locations of pixels in the image. Even a slight shift will result in something unpredictable.\n",
    "\n",
    "So, this motivated the idea of using networks with convolutional filters, where smaller filters are shared across the whole image.\n",
    "\n",
    "## Convolutions in Pytorch\n",
    "\n",
    "Let's first take a look at how convolutions are defined in Pytorch:"
   ]
  },
  {
   "cell_type": "code",
   "execution_count": 18,
   "metadata": {
    "id": "w5q0o2r_y6PF",
    "ExecuteTime": {
     "end_time": "2023-11-09T01:58:47.162853Z",
     "start_time": "2023-11-09T01:58:47.066819600Z"
    }
   },
   "outputs": [
    {
     "data": {
      "text/plain": "Conv2d(3, 16, kernel_size=(3, 3), stride=(1, 1), padding=(1, 1))"
     },
     "execution_count": 18,
     "metadata": {},
     "output_type": "execute_result"
    }
   ],
   "source": [
    "conv = nn.Conv2d(3, 16, kernel_size=3, padding=1)\n",
    "conv"
   ]
  },
  {
   "cell_type": "markdown",
   "metadata": {
    "id": "aqd5J5Ufy6PF"
   },
   "source": [
    "This as we can see is a **layer**, which uses 16 filters, each of size 3x3 pixels on a three-channel image. The stride is set to 1 in both x and y-direction, and there is **no padding**.\n",
    "\n",
    "The number of learnable parameters should hence be 16 filters * 3 color channels * 3x3 pixels + 16 biases:"
   ]
  },
  {
   "cell_type": "code",
   "execution_count": 19,
   "metadata": {
    "id": "mXhTML1Vy6PF",
    "ExecuteTime": {
     "end_time": "2023-11-09T01:58:50.728254100Z",
     "start_time": "2023-11-09T01:58:50.647188300Z"
    }
   },
   "outputs": [
    {
     "data": {
      "text/plain": "(torch.Size([16, 3, 3, 3]), torch.Size([16]))"
     },
     "execution_count": 19,
     "metadata": {},
     "output_type": "execute_result"
    }
   ],
   "source": [
    "conv.weight.shape, conv.bias.shape"
   ]
  },
  {
   "cell_type": "markdown",
   "metadata": {
    "id": "ElQnWlxBy6PF"
   },
   "source": [
    "So, let's convolve the first image of CIFAR with our layer:"
   ]
  },
  {
   "cell_type": "code",
   "execution_count": 20,
   "metadata": {
    "id": "0NKxthzxy6PF",
    "ExecuteTime": {
     "end_time": "2023-11-09T01:58:55.754395800Z",
     "start_time": "2023-11-09T01:58:55.670396400Z"
    }
   },
   "outputs": [],
   "source": [
    "img, _ = cifar2[0]\n",
    "output = conv(img.unsqueeze(0))"
   ]
  },
  {
   "cell_type": "markdown",
   "metadata": {
    "id": "kjZ946W1y6PF"
   },
   "source": [
    "And we can show the output and the input like so:"
   ]
  },
  {
   "cell_type": "code",
   "execution_count": 21,
   "metadata": {
    "id": "aXKPrtrEy6PF",
    "ExecuteTime": {
     "end_time": "2023-11-09T01:58:58.511412300Z",
     "start_time": "2023-11-09T01:58:58.180599Z"
    }
   },
   "outputs": [
    {
     "data": {
      "text/plain": "<Figure size 1000x480 with 2 Axes>",
      "image/png": "[encoded data removed]"
     },
     "metadata": {},
     "output_type": "display_data"
    }
   ],
   "source": [
    "plt.figure(figsize=(10, 4.8))\n",
    "ax1 = plt.subplot(1, 2, 1)\n",
    "plt.title('output')\n",
    "plt.imshow(output[0, 0].detach(), cmap='gray')\n",
    "plt.subplot(1, 2, 2, sharex=ax1, sharey=ax1)\n",
    "plt.imshow(img.mean(0), cmap='gray')\n",
    "plt.title('input')\n",
    "plt.show()"
   ]
  },
  {
   "cell_type": "markdown",
   "metadata": {
    "id": "ZOm-AjQQy6PF"
   },
   "source": [
    "A few things to note: first of all, weights and biases of the convolution layer have been randomly initialized, so the output is not going to be very meaningful.\n",
    "\n",
    "Second of all, as is easily noticable, the dimensionality of input and output is not the same:"
   ]
  },
  {
   "cell_type": "code",
   "execution_count": 22,
   "metadata": {
    "id": "SpDlHDtKy6PG",
    "ExecuteTime": {
     "end_time": "2023-11-09T01:59:04.658588800Z",
     "start_time": "2023-11-09T01:59:04.597097300Z"
    }
   },
   "outputs": [
    {
     "data": {
      "text/plain": "(torch.Size([1, 3, 32, 32]), torch.Size([1, 16, 32, 32]))"
     },
     "execution_count": 22,
     "metadata": {},
     "output_type": "execute_result"
    }
   ],
   "source": [
    "img.unsqueeze(0).shape, output.shape"
   ]
  },
  {
   "cell_type": "markdown",
   "metadata": {
    "id": "qdRHeiayy6PG"
   },
   "source": [
    "The reason is of course that we lose pixels around the edge due to the convolution operation. The solution then is to add padding to the image. Since, we have a kernel size of 3x3, we need a padding of 1 pixel.\n",
    "\n",
    "Let's implement this:"
   ]
  },
  {
   "cell_type": "code",
   "execution_count": 23,
   "metadata": {
    "id": "vplkJS5Fy6PG",
    "ExecuteTime": {
     "end_time": "2023-11-09T01:59:14.565255500Z",
     "start_time": "2023-11-09T01:59:14.493257100Z"
    }
   },
   "outputs": [
    {
     "data": {
      "text/plain": "(torch.Size([1, 3, 32, 32]), torch.Size([1, 1, 32, 32]))"
     },
     "execution_count": 23,
     "metadata": {},
     "output_type": "execute_result"
    }
   ],
   "source": [
    "conv = nn.Conv2d(3, 1, kernel_size=3, padding=1)\n",
    "output = conv(img.unsqueeze(0))\n",
    "img.unsqueeze(0).shape, output.shape"
   ]
  },
  {
   "cell_type": "markdown",
   "metadata": {
    "id": "PFjJAc6yy6PG"
   },
   "source": [
    "We can of course force the filters to a certain value. Let's do this manually, setting the biases to 0 and the weights to normalized similar values."
   ]
  },
  {
   "cell_type": "code",
   "execution_count": 24,
   "metadata": {
    "id": "QRNkQP71y6PL",
    "ExecuteTime": {
     "end_time": "2023-11-09T01:59:16.157019800Z",
     "start_time": "2023-11-09T01:59:16.088704800Z"
    }
   },
   "outputs": [],
   "source": [
    "with torch.no_grad():\n",
    "    conv.bias.zero_()\n",
    "\n",
    "with torch.no_grad():\n",
    "    conv.weight.fill_(1.0 / 9.0)"
   ]
  },
  {
   "cell_type": "markdown",
   "metadata": {
    "id": "StMtWwX7y6PL"
   },
   "source": [
    "And it's pretty clear what this will give us, right?"
   ]
  },
  {
   "cell_type": "code",
   "execution_count": 25,
   "metadata": {
    "id": "xnRE4huby6PL",
    "ExecuteTime": {
     "end_time": "2023-11-09T01:59:18.407352600Z",
     "start_time": "2023-11-09T01:59:18.042996900Z"
    }
   },
   "outputs": [
    {
     "data": {
      "text/plain": "<Figure size 1000x480 with 2 Axes>",
      "image/png": "[encoded data removed]"
     },
     "metadata": {},
     "output_type": "display_data"
    }
   ],
   "source": [
    "output = conv(img.unsqueeze(0))\n",
    "plt.figure(figsize=(10, 4.8))\n",
    "ax1 = plt.subplot(1, 2, 1)\n",
    "plt.title('output')\n",
    "plt.imshow(output[0, 0].detach(), cmap='gray')\n",
    "plt.subplot(1, 2, 2, sharex=ax1, sharey=ax1)\n",
    "plt.imshow(img.mean(0), cmap='gray')\n",
    "plt.title('input')\n",
    "plt.show()"
   ]
  },
  {
   "cell_type": "markdown",
   "metadata": {
    "id": "XNUyjhUpy6PM"
   },
   "source": [
    "Let's do a bit of edge detection:"
   ]
  },
  {
   "cell_type": "code",
   "execution_count": 26,
   "metadata": {
    "id": "WTGycQFYy6PM",
    "ExecuteTime": {
     "end_time": "2023-11-09T01:59:23.376298900Z",
     "start_time": "2023-11-09T01:59:23.314172400Z"
    }
   },
   "outputs": [],
   "source": [
    "conv = nn.Conv2d(3, 1, kernel_size=3, padding=1)\n",
    "\n",
    "with torch.no_grad():\n",
    "    conv.weight[:] = torch.tensor([[-1.0, 0.0, 1.0],\n",
    "                                   [-1.0, 0.0, 1.0],\n",
    "                                   [-1.0, 0.0, 1.0]])\n",
    "    conv.bias.zero_()"
   ]
  },
  {
   "cell_type": "code",
   "execution_count": 27,
   "metadata": {
    "id": "nNEyxrFhy6PM",
    "ExecuteTime": {
     "end_time": "2023-11-09T01:59:24.773326500Z",
     "start_time": "2023-11-09T01:59:24.454247300Z"
    }
   },
   "outputs": [
    {
     "data": {
      "text/plain": "<Figure size 1000x480 with 2 Axes>",
      "image/png": "[encoded data removed]"
     },
     "metadata": {},
     "output_type": "display_data"
    }
   ],
   "source": [
    "output = conv(img.unsqueeze(0))\n",
    "plt.figure(figsize=(10, 4.8))\n",
    "ax1 = plt.subplot(1, 2, 1)\n",
    "plt.title('output')\n",
    "plt.imshow(output[0, 0].detach(), cmap='gray')\n",
    "plt.subplot(1, 2, 2, sharex=ax1, sharey=ax1)\n",
    "plt.imshow(img.mean(0), cmap='gray')\n",
    "plt.title('input')\n",
    "plt.show()"
   ]
  },
  {
   "cell_type": "markdown",
   "metadata": {
    "id": "ogG3WpEfy6PM"
   },
   "source": [
    "## Derivatives of convolution filter layers\n",
    "\n",
    "If we assume that our convolution written as an operator $*$ works on an input $X$ to produce an output $O$ using a filter $F$ like so:\n",
    "\n",
    "$$\n",
    "O = F * X\n",
    "$$\n",
    "\n",
    "\n",
    "where we assume that our filter $F$ is square with $n$ elements and thus we have:\n",
    "\n",
    "$$\n",
    "O_{i,j}=\\sum_{k=-n}^{n} \\sum_{l=-n}^{n} F_{k,l}X_{i+k,j+l}\n",
    "$$\n",
    "\n",
    "In order to do the backpropagation, we are given the loss $\\frac{\\partial L}{\\partial O}$ from a previous layer. We now have to push this through the convolution to get two things:\n",
    "\n",
    "$$\n",
    "...\n",
    "$$\n",
    "\n",
    "and\n",
    "\n",
    "$$\n",
    "...\n",
    "$$\n",
    "\n",
    "To make matters more \"visible\", we are going to use a simple example of a 3x3 input matrix $X$ and a 2x2 filter $F$. So, for the first element of the output $O_{1,1}$, we get:\n",
    "\n",
    "$$\n",
    "O_{1,1}=X_{1,1}F_{1,1}+X_{1,2}F_{1,2}+X_{2,1}F_{2,1}+X_{2,2}F_{2,2}\n",
    "$$\n",
    "\n",
    "and, similarly, for the remaining elements:\n",
    "\n",
    "$$\n",
    "O_{1,2}=X_{1,2}F_{1,1}+X_{1,3}F_{1,2}+X_{2,2}F_{2,1}+X_{2,3}F_{2,2}\n",
    "$$\n",
    "\n",
    "$$\n",
    "O_{2,1}=X_{2,1}F_{1,1}+X_{2,2}F_{1,2}+X_{3,1}F_{2,1}+X_{3,2}F_{2,2}\n",
    "$$\n",
    "\n",
    "$$\n",
    "O_{2,2}=X_{2,2}F_{1,1}+X_{2,3}F_{1,2}+X_{3,2}F_{2,1}+X_{3,3}F_{2,2}\n",
    "$$\n",
    "\n",
    "\n",
    "### Finding $\\frac{\\partial L}{\\partial F}$\n",
    "So, first, the partial derivative to update our filter $F$ can be expanded using the chain rule:\n",
    "\n",
    "$$\n",
    "\\frac{\\partial L}{\\partial F} = \\frac{\\partial L}{\\partial O} \\cdot \\frac{\\partial O}{\\partial F}\n",
    "$$\n",
    "\n",
    "As written above, both $O$ and $F$ are of course matrices - when doing this, we can expand the derivatives like so, for every element of $F$, we have:\n",
    "\n",
    "$$\n",
    "\\frac{\\partial L}{\\partial F_i} = \\sum_{k=1}^{n} \\frac{\\partial L}{\\partial O_k} \\cdot \\frac{\\partial O_k}{\\partial F_i}\n",
    "$$\n",
    "\n",
    "\n",
    "now we can take the derivatives with respect to each filter coefficent $F_{i,j}$ to find:\n",
    "\n",
    "$$\n",
    "\\frac{\\partial O_{1,1}}{\\partial F_{i,j}}=X_{i,j}\n",
    "$$\n",
    "\n",
    "Watch out though, the derivatives for the next element is not \"that easy\" anymore:\n",
    "\n",
    "$$\n",
    "O_{1,2}=X_{1,2}F_{1,1}+X_{1,3}F_{1,2}+X_{2,2}F_{2,1}+X_{2,3}F_{2,2}\n",
    "$$\n",
    "\n",
    "For this, the derivatives with respect to each filter coefficent $F_{i,j}$ yields different elements of the input matrix!\n",
    "\n",
    "\n",
    "so, now we need to go into the matrix derivatives. Using the definition of the matrix derivative, we get for the following four partial derivatives:\n",
    "\n",
    "\n",
    "$$\n",
    "\\frac{\\partial L}{\\partial F_{1,1}}=\\frac{\\partial L}{\\partial O_{1,1}}\\frac{\\partial O_{1,1}}{\\partial F_{1,1}}+\\frac{\\partial L}{\\partial O_{1,2}}\\frac{\\partial O_{1,2}}{\\partial F_{1,1}}+\\frac{\\partial L}{\\partial O_{2,1}}\\frac{\\partial O_{2,1}}{\\partial F_{1,1}}+\\frac{\\partial L}{\\partial O_{2,2}}\\frac{\\partial O_{2,2}}{\\partial F_{1,1}}\n",
    "$$\n",
    "\n",
    "$$\n",
    "\\frac{\\partial L}{\\partial F_{1,2}}=\\frac{\\partial L}{\\partial O_{1,1}}\\frac{\\partial O_{1,1}}{\\partial F_{1,2}}+\\frac{\\partial L}{\\partial O_{1,2}}\\frac{\\partial O_{1,2}}{\\partial F_{1,2}}+\\frac{\\partial L}{\\partial O_{2,1}}\\frac{\\partial O_{2,1}}{\\partial F_{1,2}}+\\frac{\\partial L}{\\partial O_{2,2}}\\frac{\\partial O_{2,2}}{\\partial F_{1,2}}\n",
    "$$\n",
    "\n",
    "$$\n",
    "\\frac{\\partial L}{\\partial F_{2,1}}=\\frac{\\partial L}{\\partial O_{1,1}}\\frac{\\partial O_{1,1}}{\\partial F_{2,1}}+\\frac{\\partial L}{\\partial O_{1,2}}\\frac{\\partial O_{1,2}}{\\partial F_{2,1}}+\\frac{\\partial L}{\\partial O_{2,1}}\\frac{\\partial O_{2,1}}{\\partial F_{2,1}}+\\frac{\\partial L}{\\partial O_{2,2}}\\frac{\\partial O_{2,2}}{\\partial F_{2,1}}\n",
    "$$\n",
    "\n",
    "$$\n",
    "\\frac{\\partial L}{\\partial F_{2,2}}=\\frac{\\partial L}{\\partial O_{1,1}}\\frac{\\partial O_{1,1}}{\\partial F_{2,2}}+\\frac{\\partial L}{\\partial O_{1,2}}\\frac{\\partial O_{1,2}}{\\partial F_{2,2}}+\\frac{\\partial L}{\\partial O_{2,1}}\\frac{\\partial O_{2,1}}{\\partial F_{2,2}}+\\frac{\\partial L}{\\partial O_{2,2}}\\frac{\\partial O_{2,2}}{\\partial F_{2,2}}\n",
    "$$\n",
    "\n",
    "we know the second parts of these derivatives and can plug them in like so:\n",
    "\n",
    "\n",
    "\n",
    "$$\n",
    "\\frac{\\partial L}{\\partial F_{1,1}}=\\frac{\\partial L}{\\partial O_{1,1}}\\cdot X_{1,1}+\\frac{\\partial L}{\\partial O_{1,2}}\\cdot X_{1,2}+\\frac{\\partial L}{\\partial O_{2,1}}\\cdot X_{2,1}+\\frac{\\partial L}{\\partial O_{2,2}}\\cdot X_{2,2}\n",
    "$$\n",
    "\n",
    "$$\n",
    "\\frac{\\partial L}{\\partial F_{1,2}}=\\frac{\\partial L}{\\partial O_{1,1}}\\cdot X_{1,2}+\\frac{\\partial L}{\\partial O_{1,2}}\\cdot X_{1,3}+\\frac{\\partial L}{\\partial O_{2,1}}\\cdot X_{2,2}+\\frac{\\partial L}{\\partial O_{2,2}}\\cdot X_{2,3}\n",
    "$$\n",
    "\n",
    "$$\n",
    "\\frac{\\partial L}{\\partial F_{2,1}}=\\frac{\\partial L}{\\partial O_{1,1}}\\cdot X_{2,1}+\\frac{\\partial L}{\\partial O_{1,2}}\\cdot X_{2,2}+\\frac{\\partial L}{\\partial O_{2,1}}\\cdot X_{3,1}+\\frac{\\partial L}{\\partial O_{2,2}}\\cdot X_{3,2}\n",
    "$$\n",
    "\n",
    "$$\n",
    "\\frac{\\partial L}{\\partial F_{2,2}}=\\frac{\\partial L}{\\partial O_{1,1}}\\cdot X_{2,2}+\\frac{\\partial L}{\\partial O_{1,2}}\\cdot X_{2,3}+\\frac{\\partial L}{\\partial O_{2,1}}\\cdot X_{3,2}+\\frac{\\partial L}{\\partial O_{2,2}}\\cdot X_{3,3}\n",
    "$$\n",
    "\n",
    "So, we have four partial derivatives, which you can represent nicely as the result of **another convolution** between the input matrix $X$ and another filter $F'$ that consists of the partial derivatives of the loss with respect to each of the outputs\n",
    "\n",
    "$$\n",
    "...\n",
    "$$\n",
    "\n",
    "\n",
    "### Finding $\\frac{\\partial L}{\\partial X}$\n",
    "So, second, the partial derivative to backpropagate the loss with respect to the input $X$, we expand using the chain rule:\n",
    "\n",
    "$$\n",
    "\\frac{\\partial L}{\\partial X} = \\frac{\\partial L}{\\partial O} \\cdot \\frac{\\partial O}{\\partial X}\n",
    "$$\n",
    "\n",
    "\n",
    "Again, these are all matrices - so, for every element of $X$, we have:\n",
    "\n",
    "$$\n",
    "\\frac{\\partial L}{\\partial X_i} = \\sum_{k=1}^{n} \\frac{\\partial L}{\\partial O_k} \\cdot \\frac{\\partial O_k}{\\partial X_i}\n",
    "$$\n",
    "\n",
    "From the forward equations of the convolution, we find for the first element:\n",
    "\n",
    "$$\n",
    "\\frac{\\partial O_{1,1}}{\\partial X_{i,j}}=F_{i,j}\n",
    "$$\n",
    "\n",
    "we now get nine(!) different terms:\n",
    "\n",
    "$$\n",
    "\\frac{\\partial L}{\\partial X_{1,1}} = \\frac{\\partial L}{\\partial O_{1,1}} \\cdot F_{1,1}\n",
    "$$\n",
    "\n",
    "$$\n",
    "\\frac{\\partial L}{\\partial X_{1,2}} = \\frac{\\partial L}{\\partial O_{1,1}} \\cdot F_{1,2} + \\frac{\\partial L}{\\partial O_{1,2}} \\cdot F_{1,1}\n",
    "$$\n",
    "\n",
    "$$\n",
    "\\frac{\\partial L}{\\partial X_{1,3}} = \\frac{\\partial L}{\\partial O_{1,2}} \\cdot F_{1,2}\n",
    "$$\n",
    "\n",
    "$$\n",
    "\\frac{\\partial L}{\\partial X_{2,1}} = \\frac{\\partial L}{\\partial O_{1,1}} \\cdot F_{2,1} + \\frac{\\partial L}{\\partial O_{2,1}} \\cdot F_{1,1}\n",
    "$$\n",
    "\n",
    "$$\n",
    "\\frac{\\partial L}{\\partial X_{2,2}} = \\frac{\\partial L}{\\partial O_{1,1}} \\cdot F_{2,2} + \\frac{\\partial L}{\\partial O_{1,2}} \\cdot F_{2,1} + \\frac{\\partial L}{\\partial O_{2,1}} \\cdot F_{1,2} + \\frac{\\partial L}{\\partial O_{2,2}} \\cdot F_{1,1}\n",
    "$$\n",
    "\n",
    "$$\n",
    "\\frac{\\partial L}{\\partial X_{2,3}} = \\frac{\\partial L}{\\partial O_{1,2}} \\cdot F_{2,2} + \\frac{\\partial L}{\\partial O_{2,2}} \\cdot F_{1,2}\n",
    "$$\n",
    "\n",
    "$$\n",
    "\\frac{\\partial L}{\\partial X_{3,1}} = \\frac{\\partial L}{\\partial O_{2,1}} \\cdot F_{2,1}\n",
    "$$\n",
    "\n",
    "$$\n",
    "\\frac{\\partial L}{\\partial X_{3,2}} = \\frac{\\partial L}{\\partial O_{2,1}} \\cdot F_{2,2} + \\frac{\\partial L}{\\partial O_{2,2}} \\cdot F_{2,1}\n",
    "$$\n",
    "\n",
    "$$\n",
    "\\frac{\\partial L}{\\partial X_{3,3}} = \\frac{\\partial L}{\\partial O_{2,2}} \\cdot F_{2,2}\n",
    "$$\n",
    "\n",
    "\n",
    "This funnily enough is also a type of convolution of the loss gradient matrix $F^{'}_{i,j} = \\frac{\\partial L}{\\partial O_{i,j}}$, but this time with a rotated version of the original filter $R$!\n",
    "\n",
    "So, our rotated filter $R$ is obtained by flipping $F$ first vertically and then horizontally to get:\n",
    "\n",
    "$$\n",
    "R_{1,1}=F_{2,2}\n",
    "$$\n",
    "\n",
    "$$\n",
    "R_{1,2}=F_{2,1}\n",
    "$$\n",
    "\n",
    "$$\n",
    "R_{2,1}=F_{1,2}\n",
    "$$\n",
    "\n",
    "$$\n",
    "R_{2,2}=F_{1,1}\n",
    "$$\n",
    "\n",
    "Now we slide this 2x2 filter across the our $F'$, which looks like this:\n",
    "\n",
    "![full convolution - copyright @pavisj](fullconv.gif)\n",
    "\n",
    "This is sometimes called a **full convolution**.\n",
    "\n",
    "### The full backpropagation\n",
    "\n",
    "So, in summary, our backpropagation needs two terms that can be obtained by convolutions.\n",
    "\n",
    "1. A simple convolution of the values coming on from high with the original input $X$.\n",
    "\n",
    "2. A full convolution of the values coming on from high with a rotated version of the original filter $F$.\n",
    "\n",
    "\n",
    "For another, very in-depth derivation of this, you can also refer to:\n",
    "\n",
    "https://www.jefkine.com/general/2016/09/05/backpropagation-in-convolutional-neural-networks/"
   ]
  },
  {
   "cell_type": "markdown",
   "metadata": {
    "id": "wai4aCNty6PN"
   },
   "source": [
    "## Going deep\n",
    "\n",
    "Great, so now that we know how to derive the operation of discrete convolution filters, we can try to make a neural network with convolution layers!\n",
    "\n",
    "The issue is, however, that the filters that we used here in this layer are 3x3 pixels. How can we make sure that 3x3 pixels are actually sufficient to explain all types of important image features?\n",
    "\n",
    "We cannot make sure - in fact, if you look at birds versus airplanes, as our network here is supposed to do, then almost certainly we would assume that certain structures of these image categories are larger in extent (think about the wings of the aircraft, or the \"body\" of birds, etc).\n",
    "\n",
    "One solution to this will of course be to make **larger** filters - CIFAR is 32x32 pixels, so we could - in principle - go all the way up to 32x32 pixels for our filters. This, however, will be very inefficient, as it will be exactly the same as a fully-connected network (in fact, much \"worse\", since we have 16 of these filters).\n",
    "\n",
    "So, like we have seen at the very beginning of the notebook, people proposed to go deep, successively reducing the size of the image so that filters become \"larger\" in each layer.\n",
    "\n",
    "We can do this downsampling operation between layers in a variety of ways:\n",
    "\n",
    "1. Average the results in a small area and then downsample - this is called average pooling\n",
    "\n",
    "2. Take the maximum of the results in a small area (say 4x4 pixels) and use this as the downsample value - this is called max pooling\n",
    "\n",
    "3. Do a so-called **strided** convolution, in which the filter is not evaluated at each pixel, but \"skips\" input pixels.\n",
    "\n",
    "The most common approach for standard CNNs is to downsample using max-pooling.\n",
    "\n",
    "This is what that looks like as a layer in Pytorch:"
   ]
  },
  {
   "cell_type": "code",
   "execution_count": 28,
   "metadata": {
    "id": "QWgi1aRSy6PN",
    "ExecuteTime": {
     "end_time": "2023-11-09T01:59:42.678665600Z",
     "start_time": "2023-11-09T01:59:42.605008Z"
    }
   },
   "outputs": [
    {
     "data": {
      "text/plain": "(torch.Size([1, 3, 32, 32]), torch.Size([1, 3, 16, 16]))"
     },
     "execution_count": 28,
     "metadata": {},
     "output_type": "execute_result"
    }
   ],
   "source": [
    "pool = nn.MaxPool2d(2)\n",
    "output = pool(img.unsqueeze(0))\n",
    "\n",
    "img.unsqueeze(0).shape, output.shape"
   ]
  },
  {
   "cell_type": "markdown",
   "metadata": {
    "id": "HhnSYbldy6PN"
   },
   "source": [
    "And this is what happens if you have two subsequent layers of convolutions with max-pooling on a 2x2 scale.\n",
    "\n",
    "![maxpool](maxpool.png)\n",
    "\n",
    "In the final layer of max-pooling, the number 21 is produced from the data coming from an original part of the image of 8x8 pixels!\n",
    "\n",
    "Note, how the max-pooling keeps the spatial information intact such that we can actually say that something cross-like seemed to be happening at the top-left of the image.\n",
    "\n",
    "\n",
    "### Derivatives of max-pooling\n",
    "\n",
    "In order to do backpropagation, we need to of course know the value of the derivative of this operation. Well, in this case, this is simple as the error is assigned to all the neuron/unit that contributed the \"max\". All other neurons/units did not do anything to the forward pass, and hence their backpropagation value will be 0."
   ]
  },
  {
   "cell_type": "markdown",
   "metadata": {
    "id": "0Sc1ksoyy6PN"
   },
   "source": [
    "### Implementation\n",
    "\n",
    "So, in Pytorch, we will now be doing something like this:"
   ]
  },
  {
   "cell_type": "code",
   "execution_count": 29,
   "metadata": {
    "id": "XMV16wGQy6PN",
    "ExecuteTime": {
     "end_time": "2023-11-09T01:59:51.050800900Z",
     "start_time": "2023-11-09T01:59:50.994346Z"
    }
   },
   "outputs": [],
   "source": [
    "model = nn.Sequential(\n",
    "            nn.Conv2d(3, 16, kernel_size=3, padding=1),\n",
    "            nn.Tanh(),\n",
    "            nn.MaxPool2d(2),\n",
    "            nn.Conv2d(16, 8, kernel_size=3, padding=1),\n",
    "            nn.Tanh(),\n",
    "            nn.MaxPool2d(2))"
   ]
  },
  {
   "cell_type": "markdown",
   "metadata": {
    "id": "mwG6XcEvy6PN"
   },
   "source": [
    "The problem here is that we now need to convert the output of the final max-pooling, which are 2D-like into a 1D vector that we need to convert to probabilities somehow.\n",
    "\n",
    "Maybe like this???"
   ]
  },
  {
   "cell_type": "code",
   "execution_count": 30,
   "metadata": {
    "id": "ZxS4k_0Ay6PN",
    "ExecuteTime": {
     "end_time": "2023-11-09T01:59:59.722488600Z",
     "start_time": "2023-11-09T01:59:59.639537700Z"
    }
   },
   "outputs": [],
   "source": [
    "model = nn.Sequential(\n",
    "            nn.Conv2d(3, 16, kernel_size=3, padding=1),\n",
    "            nn.Tanh(),\n",
    "            nn.MaxPool2d(2),\n",
    "            nn.Conv2d(16, 8, kernel_size=3, padding=1),\n",
    "            nn.Tanh(),\n",
    "            nn.MaxPool2d(2),\n",
    "            nn.Linear(8 * 8 * 8, 32),\n",
    "            nn.Tanh(),\n",
    "            nn.Linear(32, 2))"
   ]
  },
  {
   "cell_type": "markdown",
   "metadata": {
    "id": "sKOMZYxqy6PN"
   },
   "source": [
    "So, here, we've added two sets of linear layers that will now take the output of the max-pooling to somehow create internal features that we can then map onto two classes (or more, of course).\n",
    "\n",
    "\n",
    "How many parameters do we have now??"
   ]
  },
  {
   "cell_type": "code",
   "execution_count": 31,
   "metadata": {
    "id": "-sVq1Udny6PO",
    "ExecuteTime": {
     "end_time": "2023-11-09T02:00:00.934169600Z",
     "start_time": "2023-11-09T02:00:00.871769300Z"
    }
   },
   "outputs": [
    {
     "data": {
      "text/plain": "(18090, [432, 16, 1152, 8, 16384, 32, 64, 2])"
     },
     "execution_count": 31,
     "metadata": {},
     "output_type": "execute_result"
    }
   ],
   "source": [
    "numel_list = [p.numel() for p in model.parameters()]\n",
    "sum(numel_list), numel_list"
   ]
  },
  {
   "cell_type": "markdown",
   "metadata": {
    "id": "p_cH7iFoy6PO"
   },
   "source": [
    "Awww. That's cute, no? Instead of 1.5 or 3 million parameters as before, we have just over 18,000 parameters. This of course, does not mean that our network can solve the birds versus airplane task - it's just that we have set it up like this.\n",
    "\n",
    "But there is something missing: in order to check this, let's try to apply this randomly-initialized model to an image:"
   ]
  },
  {
   "cell_type": "code",
   "execution_count": 33,
   "metadata": {
    "scrolled": true,
    "tags": [
     "raises-exception"
    ],
    "id": "5isGvW2iy6PO",
    "ExecuteTime": {
     "end_time": "2023-11-09T02:01:31.464052400Z",
     "start_time": "2023-11-09T02:01:31.158265800Z"
    }
   },
   "outputs": [
    {
     "ename": "RuntimeError",
     "evalue": "mat1 and mat2 shapes cannot be multiplied (64x8 and 512x32)",
     "output_type": "error",
     "traceback": [
      "\u001B[1;31m---------------------------------------------------------------------------\u001B[0m",
      "\u001B[1;31mRuntimeError\u001B[0m                              Traceback (most recent call last)",
      "Cell \u001B[1;32mIn[33], line 1\u001B[0m\n\u001B[1;32m----> 1\u001B[0m model(img\u001B[38;5;241m.\u001B[39munsqueeze(\u001B[38;5;241m0\u001B[39m))\n",
      "File \u001B[1;32mC:\\ProgramData\\anaconda3\\envs\\KU_NN\\Lib\\site-packages\\torch\\nn\\modules\\module.py:1518\u001B[0m, in \u001B[0;36mModule._wrapped_call_impl\u001B[1;34m(self, *args, **kwargs)\u001B[0m\n\u001B[0;32m   1516\u001B[0m     \u001B[38;5;28;01mreturn\u001B[39;00m \u001B[38;5;28mself\u001B[39m\u001B[38;5;241m.\u001B[39m_compiled_call_impl(\u001B[38;5;241m*\u001B[39margs, \u001B[38;5;241m*\u001B[39m\u001B[38;5;241m*\u001B[39mkwargs)  \u001B[38;5;66;03m# type: ignore[misc]\u001B[39;00m\n\u001B[0;32m   1517\u001B[0m \u001B[38;5;28;01melse\u001B[39;00m:\n\u001B[1;32m-> 1518\u001B[0m     \u001B[38;5;28;01mreturn\u001B[39;00m \u001B[38;5;28mself\u001B[39m\u001B[38;5;241m.\u001B[39m_call_impl(\u001B[38;5;241m*\u001B[39margs, \u001B[38;5;241m*\u001B[39m\u001B[38;5;241m*\u001B[39mkwargs)\n",
      "File \u001B[1;32mC:\\ProgramData\\anaconda3\\envs\\KU_NN\\Lib\\site-packages\\torch\\nn\\modules\\module.py:1527\u001B[0m, in \u001B[0;36mModule._call_impl\u001B[1;34m(self, *args, **kwargs)\u001B[0m\n\u001B[0;32m   1522\u001B[0m \u001B[38;5;66;03m# If we don't have any hooks, we want to skip the rest of the logic in\u001B[39;00m\n\u001B[0;32m   1523\u001B[0m \u001B[38;5;66;03m# this function, and just call forward.\u001B[39;00m\n\u001B[0;32m   1524\u001B[0m \u001B[38;5;28;01mif\u001B[39;00m \u001B[38;5;129;01mnot\u001B[39;00m (\u001B[38;5;28mself\u001B[39m\u001B[38;5;241m.\u001B[39m_backward_hooks \u001B[38;5;129;01mor\u001B[39;00m \u001B[38;5;28mself\u001B[39m\u001B[38;5;241m.\u001B[39m_backward_pre_hooks \u001B[38;5;129;01mor\u001B[39;00m \u001B[38;5;28mself\u001B[39m\u001B[38;5;241m.\u001B[39m_forward_hooks \u001B[38;5;129;01mor\u001B[39;00m \u001B[38;5;28mself\u001B[39m\u001B[38;5;241m.\u001B[39m_forward_pre_hooks\n\u001B[0;32m   1525\u001B[0m         \u001B[38;5;129;01mor\u001B[39;00m _global_backward_pre_hooks \u001B[38;5;129;01mor\u001B[39;00m _global_backward_hooks\n\u001B[0;32m   1526\u001B[0m         \u001B[38;5;129;01mor\u001B[39;00m _global_forward_hooks \u001B[38;5;129;01mor\u001B[39;00m _global_forward_pre_hooks):\n\u001B[1;32m-> 1527\u001B[0m     \u001B[38;5;28;01mreturn\u001B[39;00m forward_call(\u001B[38;5;241m*\u001B[39margs, \u001B[38;5;241m*\u001B[39m\u001B[38;5;241m*\u001B[39mkwargs)\n\u001B[0;32m   1529\u001B[0m \u001B[38;5;28;01mtry\u001B[39;00m:\n\u001B[0;32m   1530\u001B[0m     result \u001B[38;5;241m=\u001B[39m \u001B[38;5;28;01mNone\u001B[39;00m\n",
      "File \u001B[1;32mC:\\ProgramData\\anaconda3\\envs\\KU_NN\\Lib\\site-packages\\torch\\nn\\modules\\container.py:215\u001B[0m, in \u001B[0;36mSequential.forward\u001B[1;34m(self, input)\u001B[0m\n\u001B[0;32m    213\u001B[0m \u001B[38;5;28;01mdef\u001B[39;00m \u001B[38;5;21mforward\u001B[39m(\u001B[38;5;28mself\u001B[39m, \u001B[38;5;28minput\u001B[39m):\n\u001B[0;32m    214\u001B[0m     \u001B[38;5;28;01mfor\u001B[39;00m module \u001B[38;5;129;01min\u001B[39;00m \u001B[38;5;28mself\u001B[39m:\n\u001B[1;32m--> 215\u001B[0m         \u001B[38;5;28minput\u001B[39m \u001B[38;5;241m=\u001B[39m module(\u001B[38;5;28minput\u001B[39m)\n\u001B[0;32m    216\u001B[0m     \u001B[38;5;28;01mreturn\u001B[39;00m \u001B[38;5;28minput\u001B[39m\n",
      "File \u001B[1;32mC:\\ProgramData\\anaconda3\\envs\\KU_NN\\Lib\\site-packages\\torch\\nn\\modules\\module.py:1518\u001B[0m, in \u001B[0;36mModule._wrapped_call_impl\u001B[1;34m(self, *args, **kwargs)\u001B[0m\n\u001B[0;32m   1516\u001B[0m     \u001B[38;5;28;01mreturn\u001B[39;00m \u001B[38;5;28mself\u001B[39m\u001B[38;5;241m.\u001B[39m_compiled_call_impl(\u001B[38;5;241m*\u001B[39margs, \u001B[38;5;241m*\u001B[39m\u001B[38;5;241m*\u001B[39mkwargs)  \u001B[38;5;66;03m# type: ignore[misc]\u001B[39;00m\n\u001B[0;32m   1517\u001B[0m \u001B[38;5;28;01melse\u001B[39;00m:\n\u001B[1;32m-> 1518\u001B[0m     \u001B[38;5;28;01mreturn\u001B[39;00m \u001B[38;5;28mself\u001B[39m\u001B[38;5;241m.\u001B[39m_call_impl(\u001B[38;5;241m*\u001B[39margs, \u001B[38;5;241m*\u001B[39m\u001B[38;5;241m*\u001B[39mkwargs)\n",
      "File \u001B[1;32mC:\\ProgramData\\anaconda3\\envs\\KU_NN\\Lib\\site-packages\\torch\\nn\\modules\\module.py:1527\u001B[0m, in \u001B[0;36mModule._call_impl\u001B[1;34m(self, *args, **kwargs)\u001B[0m\n\u001B[0;32m   1522\u001B[0m \u001B[38;5;66;03m# If we don't have any hooks, we want to skip the rest of the logic in\u001B[39;00m\n\u001B[0;32m   1523\u001B[0m \u001B[38;5;66;03m# this function, and just call forward.\u001B[39;00m\n\u001B[0;32m   1524\u001B[0m \u001B[38;5;28;01mif\u001B[39;00m \u001B[38;5;129;01mnot\u001B[39;00m (\u001B[38;5;28mself\u001B[39m\u001B[38;5;241m.\u001B[39m_backward_hooks \u001B[38;5;129;01mor\u001B[39;00m \u001B[38;5;28mself\u001B[39m\u001B[38;5;241m.\u001B[39m_backward_pre_hooks \u001B[38;5;129;01mor\u001B[39;00m \u001B[38;5;28mself\u001B[39m\u001B[38;5;241m.\u001B[39m_forward_hooks \u001B[38;5;129;01mor\u001B[39;00m \u001B[38;5;28mself\u001B[39m\u001B[38;5;241m.\u001B[39m_forward_pre_hooks\n\u001B[0;32m   1525\u001B[0m         \u001B[38;5;129;01mor\u001B[39;00m _global_backward_pre_hooks \u001B[38;5;129;01mor\u001B[39;00m _global_backward_hooks\n\u001B[0;32m   1526\u001B[0m         \u001B[38;5;129;01mor\u001B[39;00m _global_forward_hooks \u001B[38;5;129;01mor\u001B[39;00m _global_forward_pre_hooks):\n\u001B[1;32m-> 1527\u001B[0m     \u001B[38;5;28;01mreturn\u001B[39;00m forward_call(\u001B[38;5;241m*\u001B[39margs, \u001B[38;5;241m*\u001B[39m\u001B[38;5;241m*\u001B[39mkwargs)\n\u001B[0;32m   1529\u001B[0m \u001B[38;5;28;01mtry\u001B[39;00m:\n\u001B[0;32m   1530\u001B[0m     result \u001B[38;5;241m=\u001B[39m \u001B[38;5;28;01mNone\u001B[39;00m\n",
      "File \u001B[1;32mC:\\ProgramData\\anaconda3\\envs\\KU_NN\\Lib\\site-packages\\torch\\nn\\modules\\linear.py:114\u001B[0m, in \u001B[0;36mLinear.forward\u001B[1;34m(self, input)\u001B[0m\n\u001B[0;32m    113\u001B[0m \u001B[38;5;28;01mdef\u001B[39;00m \u001B[38;5;21mforward\u001B[39m(\u001B[38;5;28mself\u001B[39m, \u001B[38;5;28minput\u001B[39m: Tensor) \u001B[38;5;241m-\u001B[39m\u001B[38;5;241m>\u001B[39m Tensor:\n\u001B[1;32m--> 114\u001B[0m     \u001B[38;5;28;01mreturn\u001B[39;00m F\u001B[38;5;241m.\u001B[39mlinear(\u001B[38;5;28minput\u001B[39m, \u001B[38;5;28mself\u001B[39m\u001B[38;5;241m.\u001B[39mweight, \u001B[38;5;28mself\u001B[39m\u001B[38;5;241m.\u001B[39mbias)\n",
      "\u001B[1;31mRuntimeError\u001B[0m: mat1 and mat2 shapes cannot be multiplied (64x8 and 512x32)"
     ]
    }
   ],
   "source": [
    "model(img.unsqueeze(0))"
   ]
  },
  {
   "cell_type": "markdown",
   "metadata": {
    "id": "ZusGvIzQy6PO"
   },
   "source": [
    "That gives a nasty error. In fact, pytorch complains that the output of the max-pool and the linear layer do not seem to be compatible.\n",
    "\n",
    "There are two ways to remedy this: the first is the old-school way, in which we manually reshape the output of the max-pool layer so that it conforms to an input-ready shape for the linear layer.\n",
    "\n",
    "For the old-school version, we have to build a sub-class `nn.Module` and then put a `view` command like this:"
   ]
  },
  {
   "cell_type": "code",
   "execution_count": 35,
   "metadata": {
    "id": "GMsIGZQKy6PO",
    "ExecuteTime": {
     "end_time": "2023-11-09T02:01:40.104520900Z",
     "start_time": "2023-11-09T02:01:40.054527600Z"
    }
   },
   "outputs": [],
   "source": [
    "class Net(nn.Module):\n",
    "    def __init__(self):\n",
    "        super().__init__()\n",
    "        self.conv1 = nn.Conv2d(3, 16, kernel_size=3, padding=1)\n",
    "        self.act1 = nn.Tanh()\n",
    "        self.pool1 = nn.MaxPool2d(2)\n",
    "        self.conv2 = nn.Conv2d(16, 8, kernel_size=3, padding=1)\n",
    "        self.act2 = nn.Tanh()\n",
    "        self.pool2 = nn.MaxPool2d(2)\n",
    "        self.fc1 = nn.Linear(8 * 8 * 8, 32)\n",
    "        self.act3 = nn.Tanh()\n",
    "        self.fc2 = nn.Linear(32, 2)\n",
    "\n",
    "    def forward(self, x):\n",
    "        out = self.pool1(self.act1(self.conv1(x)))\n",
    "        out = self.pool2(self.act2(self.conv2(out)))\n",
    "        out = out.view(-1, 8 * 8 * 8)\n",
    "        out = self.act3(self.fc1(out))\n",
    "        out = self.fc2(out)\n",
    "        return out"
   ]
  },
  {
   "cell_type": "markdown",
   "metadata": {
    "id": "ktFt6Q2uy6PO"
   },
   "source": [
    "And here is how we find out how many parameters our model has:"
   ]
  },
  {
   "cell_type": "code",
   "execution_count": 36,
   "metadata": {
    "id": "-eBZI5nry6PO",
    "ExecuteTime": {
     "end_time": "2023-11-09T02:01:42.102120400Z",
     "start_time": "2023-11-09T02:01:41.971119700Z"
    }
   },
   "outputs": [
    {
     "data": {
      "text/plain": "(18090, [432, 16, 1152, 8, 16384, 32, 64, 2])"
     },
     "execution_count": 36,
     "metadata": {},
     "output_type": "execute_result"
    }
   ],
   "source": [
    "model = Net()\n",
    "\n",
    "numel_list = [p.numel() for p in model.parameters()]\n",
    "sum(numel_list), numel_list"
   ]
  },
  {
   "cell_type": "markdown",
   "metadata": {
    "id": "S2xja9G4y6PO"
   },
   "source": [
    "And here is the output of the image being passed through the network (without the loss layer!):"
   ]
  },
  {
   "cell_type": "code",
   "execution_count": 37,
   "metadata": {
    "id": "-n3EFX5ny6PO",
    "ExecuteTime": {
     "end_time": "2023-11-09T02:01:48.905616500Z",
     "start_time": "2023-11-09T02:01:48.784817600Z"
    }
   },
   "outputs": [
    {
     "data": {
      "text/plain": "tensor([[-0.0363, -0.1197]], grad_fn=<AddmmBackward0>)"
     },
     "execution_count": 37,
     "metadata": {},
     "output_type": "execute_result"
    }
   ],
   "source": [
    "model = Net()\n",
    "model(img.unsqueeze(0))"
   ]
  },
  {
   "cell_type": "markdown",
   "metadata": {
    "id": "0txdb_Nly6PO"
   },
   "source": [
    "The second, newer way is to simply use the Pytorch `nn.Flatten` layer that achieves the same thing:"
   ]
  },
  {
   "cell_type": "code",
   "execution_count": 38,
   "metadata": {
    "id": "j6JG9UeQy6PP",
    "ExecuteTime": {
     "end_time": "2023-11-09T02:01:58.657875400Z",
     "start_time": "2023-11-09T02:01:58.617912400Z"
    }
   },
   "outputs": [],
   "source": [
    "class Net(nn.Module):\n",
    "    def __init__(self):\n",
    "        super().__init__()\n",
    "        self.conv1 = nn.Conv2d(3, 16, kernel_size=3, padding=1)\n",
    "        self.act1 = nn.Tanh()\n",
    "        self.pool1 = nn.MaxPool2d(2)\n",
    "        self.conv2 = nn.Conv2d(16, 8, kernel_size=3, padding=1)\n",
    "        self.act2 = nn.Tanh()\n",
    "        self.pool2 = nn.MaxPool2d(2)\n",
    "        self.flatten = nn.Flatten()\n",
    "        self.fc1 = nn.Linear(8 * 8 * 8, 32)\n",
    "        self.act3 = nn.Tanh()\n",
    "        self.fc2 = nn.Linear(32, 2)\n",
    "\n",
    "    def forward(self, x):\n",
    "        out = self.pool1(self.act1(self.conv1(x)))\n",
    "        out = self.pool2(self.act2(self.conv2(out)))\n",
    "        out = self.flatten(out)\n",
    "        out = self.act3(self.fc1(out))\n",
    "        out = self.fc2(out)\n",
    "        return out"
   ]
  },
  {
   "cell_type": "code",
   "execution_count": 39,
   "metadata": {
    "id": "9LkNr6Imy6PP",
    "ExecuteTime": {
     "end_time": "2023-11-09T02:01:59.708154400Z",
     "start_time": "2023-11-09T02:01:59.603634800Z"
    }
   },
   "outputs": [
    {
     "data": {
      "text/plain": "tensor([[-0.0608,  0.1396]], grad_fn=<AddmmBackward0>)"
     },
     "execution_count": 39,
     "metadata": {},
     "output_type": "execute_result"
    }
   ],
   "source": [
    "model = Net()\n",
    "model(img.unsqueeze(0))"
   ]
  },
  {
   "cell_type": "markdown",
   "metadata": {
    "id": "8jR-qT8jy6PP"
   },
   "source": [
    "Instead of using layers to do the calculations of the activation functions and the max-pooling, you can also use them as operators in the forward function, which may be more satisfactory from a coding point of view, as these \"layers\" don't actually have a lot of parameters."
   ]
  },
  {
   "cell_type": "code",
   "execution_count": 40,
   "metadata": {
    "id": "XUyyOtOVy6PP",
    "ExecuteTime": {
     "end_time": "2023-11-09T02:02:02.906490400Z",
     "start_time": "2023-11-09T02:02:02.844416100Z"
    }
   },
   "outputs": [],
   "source": [
    "import torch.nn.functional as F\n",
    "\n",
    "class Net(nn.Module):\n",
    "    def __init__(self):\n",
    "        super().__init__()\n",
    "        self.conv1 = nn.Conv2d(3, 16, kernel_size=3, padding=1)\n",
    "        self.conv2 = nn.Conv2d(16, 8, kernel_size=3, padding=1)\n",
    "        self.fc1 = nn.Linear(8 * 8 * 8, 32)\n",
    "        self.fc2 = nn.Linear(32, 2)\n",
    "\n",
    "    def forward(self, x):\n",
    "        out = F.max_pool2d(torch.tanh(self.conv1(x)), 2)\n",
    "        out = F.max_pool2d(torch.tanh(self.conv2(out)), 2)\n",
    "        out = out.view(-1, 8 * 8 * 8)\n",
    "        out = torch.tanh(self.fc1(out))\n",
    "        out = self.fc2(out)\n",
    "        return out"
   ]
  },
  {
   "cell_type": "markdown",
   "metadata": {
    "id": "zN2CI-m9y6PP"
   },
   "source": [
    "The fun with CNNs is to determine how to calculate the output of the stacked layers of convolutions and max-pooling operations.\n",
    "\n",
    "Here's a handy function that does this automatically for you:"
   ]
  },
  {
   "cell_type": "code",
   "execution_count": 41,
   "metadata": {
    "id": "owyEDaT9y6PP",
    "ExecuteTime": {
     "end_time": "2023-11-09T02:02:24.880552500Z",
     "start_time": "2023-11-09T02:02:24.785743800Z"
    }
   },
   "outputs": [],
   "source": [
    "def flatten(w, k=3, s=1, p=0, m=True):\n",
    "    \"\"\"\n",
    "    Returns the right size of the flattened tensor after\n",
    "        convolutional transformation\n",
    "    :param w: width of image\n",
    "    :param k: kernel size\n",
    "    :param s: stride\n",
    "    :param p: padding\n",
    "    :param m: max pooling (bool)\n",
    "    :return: proper shape and params: use x * x * previous_out_channels\n",
    "\n",
    "    Example:\n",
    "    r = flatten(*flatten(*flatten(w=100, k=3, s=1, p=0, m=True)))[0]\n",
    "    self.fc1 = nn.Linear(r*r*128, 1024)\n",
    "    \"\"\"\n",
    "    \n",
    "    \n",
    "    return int((np.floor((w - k + 2 * p) / s) + 1) / 2 if m else 1), k, s, p, m"
   ]
  },
  {
   "cell_type": "markdown",
   "metadata": {
    "id": "8Plh-4pcy6PP"
   },
   "source": [
    "## Two-class problem with convolutions\n",
    "\n",
    "Let's finally go to an implementation using our newly-minted CNN:"
   ]
  },
  {
   "cell_type": "code",
   "execution_count": 42,
   "metadata": {
    "id": "3E-23dU2y6PP",
    "ExecuteTime": {
     "end_time": "2023-11-09T02:02:26.780990Z",
     "start_time": "2023-11-09T02:02:26.721183900Z"
    }
   },
   "outputs": [],
   "source": [
    "import datetime\n",
    "\n",
    "def training_loop(n_epochs, optimizer, model, loss_fn, train_loader):\n",
    "    for epoch in range(1, n_epochs + 1):\n",
    "        loss_train = 0.0\n",
    "        for imgs, labels in train_loader:\n",
    "            # put a batch through the model\n",
    "            outputs = model(imgs)\n",
    "            # determine the loss\n",
    "            loss = loss_fn(outputs, labels)\n",
    "            # zero the gradients and determine backpropagation\n",
    "            optimizer.zero_grad()\n",
    "            loss.backward()\n",
    "            # do one step of optimization\n",
    "            optimizer.step()\n",
    "            # keep track of the loss\n",
    "            loss_train += loss.item()\n",
    "\n",
    "        if epoch == 1 or epoch % 10 == 0:\n",
    "            print('{} Epoch {}, Training loss {}'.format(\n",
    "                datetime.datetime.now(), epoch,\n",
    "                loss_train / len(train_loader)))"
   ]
  },
  {
   "cell_type": "markdown",
   "metadata": {
    "id": "Tj5kcCAFy6PP"
   },
   "source": [
    "Now, let's train this (small) convolutional neural network with this training_loop class for 100 epochs:"
   ]
  },
  {
   "cell_type": "code",
   "execution_count": 43,
   "metadata": {
    "id": "oj3YVJ86y6PP",
    "ExecuteTime": {
     "end_time": "2023-11-09T02:05:03.424824200Z",
     "start_time": "2023-11-09T02:02:30.328344200Z"
    }
   },
   "outputs": [
    {
     "name": "stdout",
     "output_type": "stream",
     "text": [
      "2023-11-09 11:02:32.005987 Epoch 1, Training loss 0.5691338790829774\n",
      "2023-11-09 11:02:45.013019 Epoch 10, Training loss 0.32627861723778356\n",
      "2023-11-09 11:03:00.333874 Epoch 20, Training loss 0.2945275458560628\n",
      "2023-11-09 11:03:15.542880 Epoch 30, Training loss 0.2693385776061161\n",
      "2023-11-09 11:03:30.847262 Epoch 40, Training loss 0.2510661807409517\n",
      "2023-11-09 11:03:46.079348 Epoch 50, Training loss 0.23153182811987627\n",
      "2023-11-09 11:04:01.558086 Epoch 60, Training loss 0.21550593140778268\n",
      "2023-11-09 11:04:16.921397 Epoch 70, Training loss 0.20257563011091986\n",
      "2023-11-09 11:04:32.311022 Epoch 80, Training loss 0.1847280766933587\n",
      "2023-11-09 11:04:47.174402 Epoch 90, Training loss 0.17269827330568036\n",
      "2023-11-09 11:05:03.416785 Epoch 100, Training loss 0.15875883445523348\n"
     ]
    }
   ],
   "source": [
    "train_loader = torch.utils.data.DataLoader(cifar2, batch_size=64,\n",
    "                                           shuffle=True)\n",
    "\n",
    "# get the model\n",
    "model = Net()\n",
    "# standard optimizer\n",
    "optimizer = optim.SGD(model.parameters(), lr=1e-2)\n",
    "# classification loss\n",
    "loss_fn = nn.CrossEntropyLoss()\n",
    "\n",
    "# go for 100 epochs\n",
    "training_loop(\n",
    "    n_epochs = 100,\n",
    "    optimizer = optimizer,\n",
    "    model = model,\n",
    "    loss_fn = loss_fn,\n",
    "    train_loader = train_loader,\n",
    ")"
   ]
  },
  {
   "cell_type": "markdown",
   "metadata": {
    "id": "x7necHKzy6PQ"
   },
   "source": [
    "That takes a little time, but we can see that the error is going down. Loss is, however, not very intuitive to parse for humans, so let's convert to accuracies on training and testing:"
   ]
  },
  {
   "cell_type": "code",
   "execution_count": 44,
   "metadata": {
    "id": "UY5Na8hey6PQ",
    "ExecuteTime": {
     "end_time": "2023-11-09T02:12:25.523814100Z",
     "start_time": "2023-11-09T02:12:24.833711300Z"
    }
   },
   "outputs": [
    {
     "name": "stdout",
     "output_type": "stream",
     "text": [
      "Accuracy train: 0.93\n",
      "Accuracy val: 0.89\n"
     ]
    }
   ],
   "source": [
    "train_loader = torch.utils.data.DataLoader(cifar2, batch_size=64,\n",
    "                                           shuffle=False)\n",
    "val_loader = torch.utils.data.DataLoader(cifar2_val, batch_size=64,\n",
    "                                         shuffle=False)\n",
    "\n",
    "def validate(model, train_loader, val_loader):\n",
    "    for name, loader in [(\"train\", train_loader), (\"val\", val_loader)]:\n",
    "        correct = 0\n",
    "        total = 0\n",
    "\n",
    "        with torch.no_grad():\n",
    "            for imgs, labels in loader:\n",
    "                outputs = model(imgs)\n",
    "                _, predicted = torch.max(outputs, dim=1)\n",
    "                total += labels.shape[0]\n",
    "                correct += int((predicted == labels).sum())\n",
    "\n",
    "        print(\"Accuracy {}: {:.2f}\".format(name , correct / total))\n",
    "\n",
    "validate(model, train_loader, val_loader)"
   ]
  },
  {
   "cell_type": "markdown",
   "metadata": {
    "id": "2chv4p0ey6PQ"
   },
   "source": [
    "Wow, our tiny model with only 18,000 parameters is actually doing quite well. The power of the filters!!\n",
    "\n",
    "Let's save this model using Pytorch like so (this will require the full model class for instantiation):"
   ]
  },
  {
   "cell_type": "code",
   "execution_count": 46,
   "metadata": {
    "id": "qW7bfgsdy6PQ",
    "ExecuteTime": {
     "end_time": "2023-11-09T02:13:50.329893200Z",
     "start_time": "2023-11-09T02:13:50.288452300Z"
    }
   },
   "outputs": [],
   "source": [
    "torch.save(model.state_dict(), data_path + 'birds_vs_airplanes.pt')"
   ]
  },
  {
   "cell_type": "code",
   "execution_count": 47,
   "metadata": {
    "id": "dfaHV8Pby6PQ",
    "ExecuteTime": {
     "end_time": "2023-11-09T02:13:51.597030700Z",
     "start_time": "2023-11-09T02:13:51.516864300Z"
    }
   },
   "outputs": [
    {
     "data": {
      "text/plain": "<All keys matched successfully>"
     },
     "execution_count": 47,
     "metadata": {},
     "output_type": "execute_result"
    }
   ],
   "source": [
    "loaded_model = Net()\n",
    "loaded_model.load_state_dict(torch.load(data_path\n",
    "                                        + 'birds_vs_airplanes.pt'))"
   ]
  },
  {
   "cell_type": "markdown",
   "metadata": {
    "id": "OvF4O3B_y6PQ"
   },
   "source": [
    "### Visualizing the filters\n",
    "\n",
    "We have now trained a bunch of filters. What do they look like?\n",
    "\n",
    "First, a helper function:"
   ]
  },
  {
   "cell_type": "code",
   "execution_count": 48,
   "metadata": {
    "id": "YTWn2cYLy6PQ",
    "ExecuteTime": {
     "end_time": "2023-11-09T02:13:55.157210100Z",
     "start_time": "2023-11-09T02:13:55.090237600Z"
    }
   },
   "outputs": [],
   "source": [
    "plt.rcParams[\"savefig.bbox\"] = 'tight'\n",
    "\n",
    "import torchvision.transforms.functional as F1\n",
    "def show(imgs):\n",
    "    if not isinstance(imgs, list):\n",
    "        imgs = [imgs]\n",
    "    fig, axs = plt.subplots(ncols=len(imgs), squeeze=False)\n",
    "    for i, img in enumerate(imgs):\n",
    "        img = img.detach()\n",
    "        img = F1.to_pil_image(img[0,:,:])\n",
    "        axs[0, i].imshow(np.asarray(img),cmap='gray')\n",
    "        axs[0, i].set(xticklabels=[], yticklabels=[], xticks=[], yticks=[])"
   ]
  },
  {
   "cell_type": "markdown",
   "metadata": {
    "id": "YsORPmTUy6PQ"
   },
   "source": [
    "Now let's visualize the filters from a first convolutional layer:"
   ]
  },
  {
   "cell_type": "code",
   "execution_count": 49,
   "metadata": {
    "id": "fPYl_Lt7y6PQ",
    "ExecuteTime": {
     "end_time": "2023-11-09T02:14:00.525731200Z",
     "start_time": "2023-11-09T02:14:00.465733100Z"
    }
   },
   "outputs": [
    {
     "data": {
      "text/plain": "torch.Size([16, 3, 3, 3])"
     },
     "execution_count": 49,
     "metadata": {},
     "output_type": "execute_result"
    }
   ],
   "source": [
    "model.conv1.weight.shape"
   ]
  },
  {
   "cell_type": "markdown",
   "metadata": {
    "id": "FL9fQvuiy6PR"
   },
   "source": [
    "What about the second layer?"
   ]
  },
  {
   "cell_type": "code",
   "execution_count": 50,
   "metadata": {
    "id": "kAIEKzqvy6PR",
    "ExecuteTime": {
     "end_time": "2023-11-09T02:14:05.472856100Z",
     "start_time": "2023-11-09T02:14:05.411240200Z"
    }
   },
   "outputs": [
    {
     "data": {
      "text/plain": "torch.Size([8, 16, 3, 3])"
     },
     "execution_count": 50,
     "metadata": {},
     "output_type": "execute_result"
    }
   ],
   "source": [
    "model.conv2.weight.shape"
   ]
  },
  {
   "cell_type": "markdown",
   "metadata": {
    "id": "WOYKt647y6PR"
   },
   "source": [
    "In order to come up with a \"better\" intuition, let's turn to a bigger training exercise and take a look at a breakout link:\n",
    "\n",
    "### Breakout\n",
    "\n",
    "https://cs.stanford.edu/people/karpathy/convnetjs/"
   ]
  },
  {
   "cell_type": "code",
   "execution_count": null,
   "metadata": {
    "id": "aaaNRi4by6PR"
   },
   "outputs": [],
   "source": []
  }
 ],
 "metadata": {
  "kernelspec": {
   "display_name": "Python 3",
   "language": "python",
   "name": "python3"
  },
  "language_info": {
   "codemirror_mode": {
    "name": "ipython",
    "version": 3
   },
   "file_extension": ".py",
   "mimetype": "text/x-python",
   "name": "python",
   "nbconvert_exporter": "python",
   "pygments_lexer": "ipython3",
   "version": "3.8.10"
  },
  "colab": {
   "provenance": []
  }
 },
 "nbformat": 4,
 "nbformat_minor": 0
}
