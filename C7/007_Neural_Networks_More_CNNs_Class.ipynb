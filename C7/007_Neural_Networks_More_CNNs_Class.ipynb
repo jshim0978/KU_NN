{
 "cells": [
  {
   "cell_type": "code",
   "execution_count": 1,
   "metadata": {
    "id": "dJwvU0pfCuA-",
    "ExecuteTime": {
     "end_time": "2023-11-09T02:14:37.793613400Z",
     "start_time": "2023-11-09T02:14:33.386578600Z"
    }
   },
   "outputs": [
    {
     "data": {
      "text/plain": "<torch._C.Generator at 0x252b7007b50>"
     },
     "execution_count": 1,
     "metadata": {},
     "output_type": "execute_result"
    }
   ],
   "source": [
    "%matplotlib inline\n",
    "from matplotlib import pyplot as plt\n",
    "import numpy as np\n",
    "import collections\n",
    "\n",
    "import torch\n",
    "import torch.nn as nn\n",
    "import torch.nn.functional as F\n",
    "import torch.optim as optim\n",
    "\n",
    "torch.set_printoptions(edgeitems=2)\n",
    "torch.manual_seed(42)"
   ]
  },
  {
   "cell_type": "markdown",
   "metadata": {
    "id": "4Cuh0yRBCuA_"
   },
   "source": [
    "# Classifying objects\n",
    "\n",
    "In the following, we will use the old-school CIFAR-10 dataset that contains low-resolution pictures of objects of 10 categories. This - and other - dataset is available as part of the `torchvision` package, which you should install."
   ]
  },
  {
   "cell_type": "code",
   "execution_count": 2,
   "metadata": {
    "id": "tyYKWOHaCuBA",
    "ExecuteTime": {
     "end_time": "2023-11-09T02:14:37.794611600Z",
     "start_time": "2023-11-09T02:14:37.784103200Z"
    }
   },
   "outputs": [],
   "source": [
    "class_names = ['airplane','automobile','bird','cat','deer',\n",
    "               'dog','frog','horse','ship','truck']"
   ]
  },
  {
   "cell_type": "code",
   "execution_count": 3,
   "metadata": {
    "id": "Gmci7-jKCuBA",
    "ExecuteTime": {
     "end_time": "2023-11-09T02:15:11.227489800Z",
     "start_time": "2023-11-09T02:14:37.789614200Z"
    }
   },
   "outputs": [
    {
     "name": "stdout",
     "output_type": "stream",
     "text": [
      "Downloading https://www.cs.toronto.edu/~kriz/cifar-10-python.tar.gz to ./cifar-10-python.tar.gz\n"
     ]
    },
    {
     "name": "stderr",
     "output_type": "stream",
     "text": [
      "100.0%\n"
     ]
    },
    {
     "name": "stdout",
     "output_type": "stream",
     "text": [
      "Extracting ./cifar-10-python.tar.gz to ./\n"
     ]
    }
   ],
   "source": [
    "from torchvision import datasets, transforms, utils\n",
    "# where to put the data\n",
    "data_path = './'\n",
    "\n",
    "# this constructs a CIFAR10 dataset, selects the training part of it,\n",
    "# downloads it if necessary, and adds additional transforms that we\n",
    "# will need to convert each image to a pytorch tensor AND to provide\n",
    "# a nice conversion of the RGB images into greyscale\n",
    "cifar10 = datasets.CIFAR10(\n",
    "    data_path, train=True, download=True,\n",
    "    transform=transforms.Compose([\n",
    "        transforms.ToTensor(),\n",
    "        transforms.Normalize((0.4915, 0.4823, 0.4468),\n",
    "                             (0.2470, 0.2435, 0.2616))\n",
    "    ]))"
   ]
  },
  {
   "cell_type": "markdown",
   "metadata": {
    "id": "48-AJu_uCuBA"
   },
   "source": [
    "This has now downloaded the images if not already done so - you will notice that this is quite a \"hefty\" dataset already at 170MB. Now let's download our validation set or test set."
   ]
  },
  {
   "cell_type": "code",
   "execution_count": 4,
   "metadata": {
    "id": "S9220SddCuBA",
    "ExecuteTime": {
     "end_time": "2023-11-09T02:15:11.228488600Z",
     "start_time": "2023-11-09T02:14:57.604339400Z"
    }
   },
   "outputs": [
    {
     "name": "stdout",
     "output_type": "stream",
     "text": [
      "Files already downloaded and verified\n"
     ]
    }
   ],
   "source": [
    "cifar10_val = datasets.CIFAR10(\n",
    "    data_path, train=False, download=True,\n",
    "    transform=transforms.Compose([\n",
    "        transforms.ToTensor(),\n",
    "        transforms.Normalize((0.4915, 0.4823, 0.4468),\n",
    "                             (0.2470, 0.2435, 0.2616))\n",
    "    ]))"
   ]
  },
  {
   "cell_type": "markdown",
   "metadata": {
    "id": "EGFX7keJCuBB"
   },
   "source": [
    "## Two-class problem on the GPU\n",
    "\n",
    "One of the reasons for the success of CNNs has been the realization that computation can be done efficiently on GPUs - originally designed to help with calculation of 3D graphics.\n",
    "\n",
    "So, let's push everything onto the GPU now. Let's redefine the same two-class problem as before:"
   ]
  },
  {
   "cell_type": "code",
   "execution_count": 5,
   "metadata": {
    "id": "IYPLYMfFCuBB",
    "ExecuteTime": {
     "end_time": "2023-11-09T02:15:18.077399200Z",
     "start_time": "2023-11-09T02:14:58.391770200Z"
    }
   },
   "outputs": [],
   "source": [
    "label_map = {0: 0, 2: 1}\n",
    "class_names = ['airplane', 'bird']\n",
    "cifar2 = [(img, label_map[label])\n",
    "          for img, label in cifar10\n",
    "          if label in [0, 2]]\n",
    "cifar2_val = [(img, label_map[label])\n",
    "              for img, label in cifar10_val\n",
    "              if label in [0, 2]]"
   ]
  },
  {
   "cell_type": "code",
   "execution_count": 6,
   "metadata": {
    "id": "YkzYlWjgCuBB",
    "ExecuteTime": {
     "end_time": "2023-11-09T02:15:18.116339200Z",
     "start_time": "2023-11-09T02:15:11.635734700Z"
    }
   },
   "outputs": [],
   "source": [
    "train_loader = torch.utils.data.DataLoader(cifar2, batch_size=64, shuffle=True)"
   ]
  },
  {
   "cell_type": "code",
   "execution_count": 7,
   "metadata": {
    "id": "ZVyISebyCuBB",
    "ExecuteTime": {
     "end_time": "2023-11-09T02:15:18.116339200Z",
     "start_time": "2023-11-09T02:15:11.645224700Z"
    }
   },
   "outputs": [],
   "source": [
    "import torch.nn.functional as F\n",
    "\n",
    "class Net(nn.Module):\n",
    "    def __init__(self):\n",
    "        super().__init__()\n",
    "        self.conv1 = nn.Conv2d(3, 16, kernel_size=3, padding=1)\n",
    "        self.conv2 = nn.Conv2d(16, 8, kernel_size=3, padding=1)\n",
    "        self.fc1 = nn.Linear(8 * 8 * 8, 32)\n",
    "        self.fc2 = nn.Linear(32, 2)\n",
    "\n",
    "    def forward(self, x):\n",
    "        out = F.max_pool2d(torch.tanh(self.conv1(x)), 2)\n",
    "        out = F.max_pool2d(torch.tanh(self.conv2(out)), 2)\n",
    "        out = out.view(-1, 8 * 8 * 8)\n",
    "        out = torch.tanh(self.fc1(out))\n",
    "        out = self.fc2(out)\n",
    "        return out"
   ]
  },
  {
   "cell_type": "markdown",
   "metadata": {
    "id": "HNJ-kcwFCuBB"
   },
   "source": [
    "Now, let's define a device that consists of CUDA (Compute Unified Device Architecture - a standard for general-purpose computing on GPU devices first introduced by NVIDIA in 2007) if supported, or the CPU otherwise.\n",
    "\n",
    "It is considered good standard to put code similar to this at the beginning of any script so that your code will run no matter if a GPU is present or not."
   ]
  },
  {
   "cell_type": "code",
   "execution_count": 8,
   "metadata": {
    "id": "ay4VsogMCuBC",
    "ExecuteTime": {
     "end_time": "2023-11-09T02:15:18.117354900Z",
     "start_time": "2023-11-09T02:15:11.651238900Z"
    }
   },
   "outputs": [
    {
     "name": "stdout",
     "output_type": "stream",
     "text": [
      "Training on device cuda.\n"
     ]
    }
   ],
   "source": [
    "device = (torch.device('cuda') if torch.cuda.is_available()\n",
    "          else torch.device('cpu'))\n",
    "print(f\"Training on device {device}.\")"
   ]
  },
  {
   "cell_type": "markdown",
   "metadata": {
    "id": "RBU_KKrUCuBC"
   },
   "source": [
    "We now have to modify our training loop slightly - the only difference is that we will need to tell Pytorch explicitly where the data will need to be processed.\n",
    "\n",
    "**Note that if data or model reside in different places, Pytorch will produce a run-time error!!**"
   ]
  },
  {
   "cell_type": "code",
   "execution_count": 15,
   "metadata": {
    "id": "xtoOIrZ7CuBC",
    "ExecuteTime": {
     "end_time": "2023-11-09T02:19:45.069822100Z",
     "start_time": "2023-11-09T02:19:45.020657300Z"
    }
   },
   "outputs": [],
   "source": [
    "import datetime\n",
    "\n",
    "def training_loop(n_epochs, optimizer, model, loss_fn, train_loader):\n",
    "    for epoch in range(1, n_epochs + 1):\n",
    "        loss_train = 0.0\n",
    "        for imgs, labels in train_loader:\n",
    "            # put the data onto the correct pytorch calculation device\n",
    "            imgs = imgs.to(device)\n",
    "            # put a batch through the model\n",
    "            outputs = model(imgs)\n",
    "            # determine the loss\n",
    "            loss = loss_fn(outputs, labels.to(device))\n",
    "            # zero the gradients and determine backpropagation\n",
    "            optimizer.zero_grad()\n",
    "            loss.backward()\n",
    "            # do one step of optimization\n",
    "            optimizer.step()\n",
    "            # keep track of the loss\n",
    "            loss_train += loss.item()\n",
    "\n",
    "        if epoch == 1 or epoch % 10 == 0:\n",
    "            print('{} Epoch {}, Training loss {}'.format(\n",
    "                datetime.datetime.now(), epoch,\n",
    "                loss_train / len(train_loader)))"
   ]
  },
  {
   "cell_type": "markdown",
   "metadata": {
    "id": "Kx0gDDQBCuBC"
   },
   "source": [
    "Now, let's train this (small) convolutional neural network with this training_loop class for 100 epochs:"
   ]
  },
  {
   "cell_type": "code",
   "execution_count": 16,
   "metadata": {
    "id": "qmPvc5loCuBC",
    "ExecuteTime": {
     "end_time": "2023-11-09T02:20:39.442479900Z",
     "start_time": "2023-11-09T02:19:46.243706900Z"
    }
   },
   "outputs": [
    {
     "name": "stdout",
     "output_type": "stream",
     "text": [
      "2023-11-09 11:19:47.005710 Epoch 1, Training loss 0.5936630550463489\n",
      "2023-11-09 11:19:52.097517 Epoch 10, Training loss 0.33940568632760626\n",
      "2023-11-09 11:19:57.172831 Epoch 20, Training loss 0.2930892670799972\n",
      "2023-11-09 11:20:02.249314 Epoch 30, Training loss 0.2662547684399186\n",
      "2023-11-09 11:20:07.442893 Epoch 40, Training loss 0.24599395839461854\n",
      "2023-11-09 11:20:13.300608 Epoch 50, Training loss 0.2302054989679604\n",
      "2023-11-09 11:20:19.151646 Epoch 60, Training loss 0.21408941055748873\n",
      "2023-11-09 11:20:24.210338 Epoch 70, Training loss 0.19860501302655337\n",
      "2023-11-09 11:20:29.438113 Epoch 80, Training loss 0.18426523248481144\n",
      "2023-11-09 11:20:34.444935 Epoch 90, Training loss 0.17160282725361503\n",
      "2023-11-09 11:20:39.435141 Epoch 100, Training loss 0.15734862775844374\n"
     ]
    }
   ],
   "source": [
    "train_loader = torch.utils.data.DataLoader(cifar2, batch_size=64,\n",
    "                                           shuffle=True)\n",
    "\n",
    "# get the model and put it onto the proper device\n",
    "model = Net().to(device)\n",
    "# standard optimizer\n",
    "optimizer = optim.SGD(model.parameters(), lr=1e-2)\n",
    "# classification loss\n",
    "loss_fn = nn.CrossEntropyLoss()\n",
    "\n",
    "# go for 100 epochs\n",
    "training_loop(\n",
    "    n_epochs = 100,\n",
    "    optimizer = optimizer,\n",
    "    model = model,\n",
    "    loss_fn = loss_fn,\n",
    "    train_loader = train_loader,\n",
    ")"
   ]
  },
  {
   "cell_type": "markdown",
   "metadata": {
    "id": "oPTuyLkyCuBD"
   },
   "source": [
    "Compared to our previous version this takes less time - the exact speed-up depends of course on your GPU/CPU combination.\n",
    "\n",
    "The validation also needs to change accordingly - here, we will also need to put the data onto the device. Note that the call to the `predicted` variable below also produces a device-fixed output!"
   ]
  },
  {
   "cell_type": "code",
   "execution_count": 19,
   "metadata": {
    "id": "8jKgUDI4CuBD",
    "ExecuteTime": {
     "end_time": "2023-11-09T02:21:14.706044Z",
     "start_time": "2023-11-09T02:21:14.354308100Z"
    }
   },
   "outputs": [
    {
     "name": "stdout",
     "output_type": "stream",
     "text": [
      "Accuracy train: 0.94\n",
      "Accuracy val: 0.89\n"
     ]
    }
   ],
   "source": [
    "train_loader = torch.utils.data.DataLoader(cifar2, batch_size=64,\n",
    "                                           shuffle=False)\n",
    "val_loader = torch.utils.data.DataLoader(cifar2_val, batch_size=64,\n",
    "                                         shuffle=False)\n",
    "\n",
    "def validate(model, train_loader, val_loader):\n",
    "    for name, loader in [(\"train\", train_loader), (\"val\", val_loader)]:\n",
    "        correct = 0\n",
    "        total = 0\n",
    "\n",
    "        with torch.no_grad():\n",
    "            for imgs, labels in loader:\n",
    "                imgs = imgs.to(device)\n",
    "                outputs = model(imgs)\n",
    "                _, predicted = torch.max(outputs, dim=1)\n",
    "                total += labels.shape[0]\n",
    "                correct += int((predicted == labels.to(device)).sum())\n",
    "\n",
    "        print(\"Accuracy {}: {:.2f}\".format(name , correct / total))\n",
    "\n",
    "validate(model, train_loader, val_loader)"
   ]
  },
  {
   "cell_type": "markdown",
   "metadata": {
    "id": "aMFeZzqCCuBD"
   },
   "source": [
    "## Optimizing CNNs\n",
    "\n",
    "In the following, we will discuss a few basic ways how to advance the architecture of CNNs.\n",
    "\n",
    "### Width\n",
    "\n",
    "One of the easiest ways to enhance the capacity of a CNN is of course to change the \"width\" of the network. This means that you will add more filters to a layer. Changing the width can be done, for example, like so:"
   ]
  },
  {
   "cell_type": "code",
   "execution_count": 20,
   "metadata": {
    "id": "Urv6SfheCuBD",
    "ExecuteTime": {
     "end_time": "2023-11-09T02:24:09.774900300Z",
     "start_time": "2023-11-09T02:24:09.732273900Z"
    }
   },
   "outputs": [],
   "source": [
    "class NetWidth(nn.Module):\n",
    "    def __init__(self, n_ch1=32):\n",
    "        super().__init__()\n",
    "        # needed later in the forward function\n",
    "        self.n_ch1 = n_ch1\n",
    "        self.conv1 = nn.Conv2d(3, 32, kernel_size=3, padding=1)\n",
    "        self.conv2 = nn.Conv2d(32, 32, kernel_size=3,padding=1)\n",
    "        self.fc1 = nn.Linear(32 * 8 * 8, 32)\n",
    "        self.fc2 = nn.Linear(32, 2)\n",
    "    def forward(self, x):\n",
    "        out = F.max_pool2d(torch.tanh(self.conv1(x)), 2)\n",
    "        out = F.max_pool2d(torch.tanh(self.conv2(out)), 2)\n",
    "        out = out.view(-1, self.n_ch1 * 8 * 8)\n",
    "        out = torch.tanh(self.fc1(out))\n",
    "        out = self.fc2(out)\n",
    "        return out"
   ]
  },
  {
   "cell_type": "markdown",
   "metadata": {
    "id": "sd_bMIiWCuBD"
   },
   "source": [
    "### Dropout\n",
    "\n",
    "As we increase the number of parameters, however, we will quickly see that it become easy to overfit the NN on pretty much any data. The increased capacity of a wider network is something that we would like to keep nonetheless, so how can we do this?\n",
    "\n",
    "One solution for this is the so-called **dropout** - a technique proposed by Srivastava and Hinton in 2014.\n",
    "\n",
    "The idea for this is actually very simple and implemented like a layer in Pytorch: in every iteration of the training, you zero out a random fraction of outputs of the preceding layer to reduce their influence.\n",
    "\n",
    "What this does is to train slightly different \"models\" in each iteration that try to solve your task, preventing the individual filters (neurons) from talking to each other too much and forming overfitting connections.\n",
    "\n",
    "This technique is not dependent on CNNs actually and can also be used with fully-connected neural networks, btw.\n",
    "\n",
    "In the case of Pytorch and CNNs we can specify 2D dropouts or 3D dropouts that zero entire channel outputs.\n",
    "\n",
    "In order to make the network function properly, we have to be aware, however, whether we are training (dropout should be active) or evaluating (dropout should not be active or have probability zero). In Pytorch, you can control this via the parameters `model.train()` and `model.eval()` for a `nn.Model` subclass like ours."
   ]
  },
  {
   "cell_type": "code",
   "execution_count": 21,
   "metadata": {
    "id": "axEJbLlTCuBD",
    "ExecuteTime": {
     "end_time": "2023-11-09T02:25:33.751244300Z",
     "start_time": "2023-11-09T02:25:33.711093300Z"
    }
   },
   "outputs": [],
   "source": [
    "class NetDropout(nn.Module):\n",
    "    def __init__(self, n_ch1=32):\n",
    "        super().__init__()\n",
    "        # needed later in the forward function\n",
    "        self.n_ch1 = n_ch1\n",
    "        self.conv1 = nn.Conv2d(3, n_ch1, kernel_size=3, padding=1)\n",
    "        # add the dropout layer\n",
    "        self.conv1_dropout = nn.Dropout2d(p=0.4)\n",
    "        self.conv2 = nn.Conv2d(n_ch1, n_ch1 // 2, kernel_size=3, padding=1)\n",
    "        # add the dropout layer\n",
    "        self.conv2_dropout = nn.Dropout2d(p=0.4)\n",
    "        self.fc1 = nn.Linear(8 * 8 * n_ch1 // 2, 32)\n",
    "        self.fc2 = nn.Linear(32, 2)\n",
    "    def forward(self, x):\n",
    "        out = F.max_pool2d(torch.tanh(self.conv1(x)), 2)\n",
    "        # add call to dropout\n",
    "        out = self.conv1_dropout(out)\n",
    "        out = F.max_pool2d(torch.tanh(self.conv2(out)), 2)\n",
    "        # add call to dropout\n",
    "        out = self.conv2_dropout(out)\n",
    "        out = out.view(-1, 8 * 8 * self.n_ch1 // 2)\n",
    "        out = torch.tanh(self.fc1(out))\n",
    "        out = self.fc2(out)\n",
    "        return out"
   ]
  },
  {
   "cell_type": "markdown",
   "metadata": {
    "id": "yKPaP5BiCuBD"
   },
   "source": [
    "### Batch normalization\n",
    "\n",
    "Another idea, published in 2015 by Ioffe and Szegedy, is Batch Normalization - a technique that rescales the inputs to the activation functions of the networks so that each (mini)batch has a desired, nicely-behaving distribution.\n",
    "\n",
    "Why would we want to do this? Remember that activation functions have saturation points that may prevent efficient learning - we therefore would like to present the activation function with a range of values that make full use of the optimization gradients.\n",
    "\n",
    "In practice, this normalization is done by shifting and scaling an intermediate input using mean and standard deviation across the samples of a given (mini)batch.\n",
    "\n",
    "This results in a regularization of sorts as any individual sample and its following activations are viewed by the full model as shifted and scaled.\n",
    "\n",
    "As such, the normalization was proposed by the authors to obviate the need for dropout as the regularization through shifting and scaling was supposed to help also with overfitting.\n",
    "\n",
    "The place for the batch norm layer in Pytorch is directly before the activation function. Again, as values for the layers are automatically updated with each call, we have to be aware, however, whether we are training (batch norm should be active) or evaluating (batch norm should not be active). In Pytorch, you can control this via the parameters `model.train()` and `model.eval()` for a `nn.Model` subclass like ours."
   ]
  },
  {
   "cell_type": "code",
   "execution_count": 22,
   "metadata": {
    "id": "zBy1CIYBCuBE",
    "ExecuteTime": {
     "end_time": "2023-11-09T02:25:35.510132100Z",
     "start_time": "2023-11-09T02:25:35.466151400Z"
    }
   },
   "outputs": [],
   "source": [
    "class NetBatchNormalization(nn.Module):\n",
    "    def __init__(self, n_ch1=32):\n",
    "        super().__init__()\n",
    "        # needed later in the forward function\n",
    "        self.n_ch1 = n_ch1\n",
    "        # note that it is also possible to use \"bias=False\" here, as the\n",
    "        # batch normalization layer \"cancels\" the effect of any bias - see below\n",
    "        self.conv1 = nn.Conv2d(3, n_ch1, kernel_size=3, padding=1)\n",
    "        # add the batch normalization layer\n",
    "        self.conv1_batchnorm = ...\n",
    "        self.conv2 = nn.Conv2d(n_ch1, n_ch1 // 2, kernel_size=3, padding=1)\n",
    "        # add the batch normalization layer\n",
    "        self.conv2_batchnorm = ...\n",
    "        self.fc1 = nn.Linear(8 * 8 * n_ch1 // 2, 32)\n",
    "        self.fc2 = nn.Linear(32, 2)\n",
    "    def forward(self, x):\n",
    "        # add call to batch normalization layer\n",
    "        out = ...\n",
    "        out = F.max_pool2d(torch.tanh(out), 2)\n",
    "        # add call to batch normalization layer\n",
    "        out = ...\n",
    "        out = F.max_pool2d(torch.tanh(out), 2)\n",
    "        out = out.view(-1, 8 * 8 * self.n_ch1 // 2)\n",
    "        out = torch.tanh(self.fc1(out))\n",
    "        out = self.fc2(out)\n",
    "        return out"
   ]
  },
  {
   "cell_type": "markdown",
   "metadata": {
    "id": "jR3jUvGVCuBE"
   },
   "source": [
    "### Depth\n",
    "\n",
    "Maybe you have wondered why we did not talk about going deeper until now - after all, it's called \"deep learning\"...\n",
    "\n",
    "What are the advantages of going deep again? Depth allows you to discover hierarchies of features - although a shallow network is in principle - via the Universal Approximation Theorem - capable of solving any task for you, splitting the network into layers enables it to discover hierarchical structures in your data.\n",
    "\n",
    "Example: a shallow network will be able to tell apart birds from airplanes, but a \"deep\" network may be able to tell you that birds and airplanes consist of different parts (wings and bodies in both cases, eyes and legs for birds, windows and perhaps landing gears for airplanes, etc.), hence allowing you to describe the data with more structure.\n",
    "\n",
    "So why don't we simply go deep? The reason for that was already hinted at several times previously: each additional layer means that gradients in backpropagation will need to be multiplied, and if you are in the tails of the activation functions that will lead to saturation and to either exploding or vanishing gradients, which will make learning unstable or not moving forward.\n",
    "\n",
    "We have already mentioned batch normalization as one possible way to overcome this problem, and, indeed, this will help us to construct deeper networks.\n",
    "\n",
    "Another approach was presented in 2015 by He et al., with their publication of residual networks (ResNets), which uses the trick of adding a \"skip connection\" to a layer.\n",
    "\n",
    "#### Skip connections\n",
    "\n",
    "A skip connection is simply the addition of the input to the output of a layer. Like so:"
   ]
  },
  {
   "cell_type": "code",
   "execution_count": 23,
   "metadata": {
    "id": "cByTr7S4CuBE",
    "ExecuteTime": {
     "end_time": "2023-11-09T02:26:59.491533100Z",
     "start_time": "2023-11-09T02:26:59.423318100Z"
    }
   },
   "outputs": [],
   "source": [
    "class NetSkip(nn.Module):\n",
    "    def __init__(self, n_ch1=32):\n",
    "        super().__init__()\n",
    "        # needed later in the forward function\n",
    "        self.n_ch1 = n_ch1\n",
    "        self.conv1 = nn.Conv2d(3, n_ch1, kernel_size=3, padding=1)\n",
    "        self.conv2 = nn.Conv2d(n_ch1, n_ch1 // 2, kernel_size=3, padding=1)\n",
    "        # go deeper!\n",
    "        self.conv3 = nn.Conv2d(n_ch1 // 2, n_ch1 // 2, kernel_size=3, padding=1)\n",
    "        # we have now half the size from before\n",
    "        self.fc1 = nn.Linear(4 * 4 * n_ch1 // 2, 32)\n",
    "        self.fc2 = nn.Linear(32, 2)\n",
    "    def forward(self, x):\n",
    "        out = F.max_pool2d(torch.relu(self.conv1(x)), 2)\n",
    "        out = F.max_pool2d(torch.relu(self.conv2(out)), 2)\n",
    "        # save the input to layer3\n",
    "        identity = out\n",
    "        out = self.conv3(out)\n",
    "        out += identity\n",
    "        # and add it to the output\n",
    "        out = F.max_pool2d(torch.relu(out), 2)\n",
    "        out = out.view(-1, 4 * 4 * self.n_ch1 // 2)\n",
    "        out = torch.relu(self.fc1(out))\n",
    "        out = self.fc2(out)\n",
    "        return out"
   ]
  },
  {
   "cell_type": "markdown",
   "metadata": {
    "id": "-_oOwhsDCuBE"
   },
   "source": [
    "Good, so now we have added another layer, and we have also added its input to its output. Because we have done this, the skip connection is now part of the computational graph and hence part of the loss gradient path.\n",
    "\n",
    "Since they are more directly connected to the loss (note, they are outside the activation functions!), their addition to the network means that the optimizer can decide to bypass a layer. The effect of this is that gradients across multiple layers are less likely to vanish.\n",
    "\n",
    "#### Blocks of layers\n",
    "\n",
    "If we really want to go deep, we need a better way to initialize our networks, as the \"manual\" way of adding layers that we have done so far is not going to be feasible.\n",
    "\n",
    "We do this by first defining a `ResNetBlock` class, which includes one block of convolutions, activations, and skip connections. In addition, we will add back batch normalization and also add a special type of weight initialization that aids optimization."
   ]
  },
  {
   "cell_type": "code",
   "execution_count": 24,
   "metadata": {
    "id": "8IRpYabFCuBE",
    "ExecuteTime": {
     "end_time": "2023-11-09T02:27:46.751623500Z",
     "start_time": "2023-11-09T02:27:46.672368200Z"
    }
   },
   "outputs": [],
   "source": [
    "class ResBlock(nn.Module):\n",
    "    def __init__(self, n_ch):\n",
    "        super(ResBlock, self).__init__()\n",
    "        # here we now explicitly get rid of the biases as we use BN\n",
    "        self.conv = nn.Conv2d(n_ch, n_ch, kernel_size=3, padding=1, bias=False)\n",
    "        # batch normalization\n",
    "        self.batch_norm = nn.BatchNorm2d(num_features=n_ch)\n",
    "        # BN is initialized to have 0.5 \"variance\" and 0 mean\n",
    "        torch.nn.init.constant_(self.batch_norm.weight, 0.5)\n",
    "        torch.nn.init.zeros_(self.batch_norm.bias)\n",
    "        # this is a special initialization of the convolution weights\n",
    "        # that was found to help with optimization\n",
    "        torch.nn.init.kaiming_normal_(self.conv.weight, nonlinearity='relu')\n",
    "    def forward(self, x):\n",
    "        # simple forward function that includes skip connection\n",
    "        out = self.conv(x)\n",
    "        out = self.batch_norm(out)\n",
    "        out = torch.relu(out)\n",
    "        return out + x"
   ]
  },
  {
   "cell_type": "markdown",
   "metadata": {
    "id": "xJYnHYMUCuBE"
   },
   "source": [
    "Now that we have one block, we will use this to create a deep architecture like so:"
   ]
  },
  {
   "cell_type": "code",
   "execution_count": 26,
   "metadata": {
    "id": "JFo-yLwCCuBE",
    "ExecuteTime": {
     "end_time": "2023-11-09T02:28:51.262551200Z",
     "start_time": "2023-11-09T02:28:51.225119Z"
    }
   },
   "outputs": [],
   "source": [
    "class NetResDeep(nn.Module):\n",
    "    # the constructor now has a parameter n_blocks that determines how many\n",
    "    # ResBlocks will be used\n",
    "    def __init__(self, n_ch1=32, n_blocks=10):\n",
    "        super().__init__()\n",
    "        self.n_ch1 = n_ch1\n",
    "        # initial convolution for embedding\n",
    "        self.conv1 = nn.Conv2d(3, n_ch1, kernel_size=3, padding=1)\n",
    "        # add the ResBlocks to the network\n",
    "        # nn.Sequential makes sure that we can add them together nicely\n",
    "        self.resblocks = nn.Sequential(\n",
    "            *(n_blocks * [ResBlock(n_ch=n_ch1)]))\n",
    "        # note that the \"net\" effect of the blocks does not reduce the dimensionality\n",
    "        # of the features - hence, we again have 8x8 \"pixels\" resolution here\n",
    "        self.fc1 = nn.Linear(8*8*n_ch1, 32)\n",
    "        self.fc2 = nn.Linear(32, 2)\n",
    "    def forward(self, x):\n",
    "        out = F.max_pool2d(torch.relu(self.conv1(x)), 2)\n",
    "        out = self.resblocks(out)\n",
    "        out = F.max_pool2d(out, 2)\n",
    "        out = out.view(-1, 8 * 8 * self.n_ch1)\n",
    "        out = torch.relu(self.fc1(out))\n",
    "        out = self.fc2(out)\n",
    "        return out"
   ]
  },
  {
   "cell_type": "code",
   "execution_count": 27,
   "metadata": {
    "id": "s_vQhAS4CuBE",
    "ExecuteTime": {
     "end_time": "2023-11-09T02:31:28.015196400Z",
     "start_time": "2023-11-09T02:28:52.173782900Z"
    }
   },
   "outputs": [
    {
     "name": "stdout",
     "output_type": "stream",
     "text": [
      "2023-11-09 11:28:53.903540 Epoch 1, Training loss 0.49837537005448795\n",
      "2023-11-09 11:29:07.557960 Epoch 10, Training loss 0.30753410498427736\n",
      "2023-11-09 11:29:23.687531 Epoch 20, Training loss 0.24966002697018302\n",
      "2023-11-09 11:29:39.437460 Epoch 30, Training loss 0.20631884489279645\n",
      "2023-11-09 11:29:55.684644 Epoch 40, Training loss 0.17293442849805402\n",
      "2023-11-09 11:30:12.362291 Epoch 50, Training loss 0.14332788587091075\n",
      "2023-11-09 11:30:27.831812 Epoch 60, Training loss 0.10969885248856939\n",
      "2023-11-09 11:30:42.889353 Epoch 70, Training loss 0.08853356598336605\n",
      "2023-11-09 11:30:57.514720 Epoch 80, Training loss 0.06505689301356009\n",
      "2023-11-09 11:31:12.610630 Epoch 90, Training loss 0.04854560877154967\n",
      "2023-11-09 11:31:28.006257 Epoch 100, Training loss 0.038413362945341\n"
     ]
    }
   ],
   "source": [
    "train_loader = torch.utils.data.DataLoader(cifar2, batch_size=64,\n",
    "                                           shuffle=True)\n",
    "\n",
    "# get the model and put it onto the proper device\n",
    "model = NetResDeep().to(device=device)\n",
    "# standard optimizer\n",
    "optimizer = optim.SGD(model.parameters(), lr=1e-3)\n",
    "# classification loss\n",
    "loss_fn = nn.CrossEntropyLoss()\n",
    "\n",
    "# go for 100 epochs\n",
    "training_loop(\n",
    "    n_epochs = 100,\n",
    "    optimizer = optimizer,\n",
    "    model = model,\n",
    "    loss_fn = loss_fn,\n",
    "    train_loader = train_loader,\n",
    ")"
   ]
  },
  {
   "cell_type": "code",
   "execution_count": 28,
   "metadata": {
    "id": "8EGTQTTkCuBF",
    "ExecuteTime": {
     "end_time": "2023-11-09T02:31:28.812034900Z",
     "start_time": "2023-11-09T02:31:28.015196400Z"
    }
   },
   "outputs": [
    {
     "name": "stdout",
     "output_type": "stream",
     "text": [
      "Accuracy train: 0.99\n",
      "Accuracy val: 0.88\n"
     ]
    }
   ],
   "source": [
    "validate(model, train_loader, val_loader)"
   ]
  },
  {
   "cell_type": "markdown",
   "metadata": {
    "id": "i18ir4V7CuBF"
   },
   "source": [
    "As we can see, however, although the last - and possibly most advanced design - is easily capable of achieving 100% training accuracy, its validation accuracy is still roughly the same.\n",
    "\n",
    "This is in part due to the fact that we've tried to go deep on images that only have 32x32 pixels - discovering hierarchies in such a low-dimensional input space may therefore be limited."
   ]
  },
  {
   "cell_type": "markdown",
   "metadata": {
    "id": "Y2DhJzk9CuBF"
   },
   "source": [
    "## 1x1 convolutions\n",
    "\n",
    "Another architecture element that is often used in CNNs is the 1x1 convolution layer. It is often called a projection or embedding layer as well.\n",
    "\n",
    "Now, mathematically, a 1x1 convolution basically takes each input and weights it with a single number, producing another number. So, there is no influence of neighboring elements in this operation - it is purely **local**.\n",
    "\n",
    "Note that if we treat a 1x1 convolution as a layer, however, its output can be fed into an activation function, which in turn means that the full layer can perform complex, non-linear operations on inputs.\n",
    "\n",
    "In addition, note, that this layer can perform its operations along the channel dimension, generating again a single number as output across all input channels. This means that in a deep architecture, the 1x1 operation will basically \"summarize\" (other words that are often used are \"project\" / \"embed\" / \"pool\" in this context) the full set of channels into one feature map, preserving its width x height dimensions.\n",
    "\n",
    "The following is an example of a projection, in which the dimensionality is preserved:"
   ]
  },
  {
   "cell_type": "code",
   "execution_count": 29,
   "metadata": {
    "id": "I-KaW3ZdCuBF",
    "ExecuteTime": {
     "end_time": "2023-11-09T02:31:28.866152900Z",
     "start_time": "2023-11-09T02:31:28.814036200Z"
    }
   },
   "outputs": [],
   "source": [
    "class NetWidthProject(nn.Module):\n",
    "    def __init__(self, n_ch1=32):\n",
    "        super().__init__()\n",
    "        # needed later in the forward function\n",
    "        self.n_ch1 = n_ch1\n",
    "        self.conv1 = nn.Conv2d(3, n_ch1, kernel_size=3, padding=1)\n",
    "        self.conv2 = nn.Conv2d(n_ch1, n_ch1 // 2, kernel_size=3,padding=1)\n",
    "        # keeps the number of filters\n",
    "        self.conv3 = nn.Conv2d(n_ch1 // 2, n_ch1 // 2, kernel_size=1)\n",
    "        self.fc1 = nn.Linear(8 * 8 * n_ch1 // 2, 32)\n",
    "        self.fc2 = nn.Linear(32, 2)\n",
    "    def forward(self, x):\n",
    "        out = F.max_pool2d(torch.tanh(self.conv1(x)), 2)\n",
    "        out = F.max_pool2d(torch.tanh(self.conv2(out)), 2)\n",
    "        out = torch.tanh(self.conv3(out))\n",
    "        out = out.view(-1, 8 * 8 * self.n_ch1 // 2)\n",
    "        out = torch.tanh(self.fc1(out))\n",
    "        out = self.fc2(out)\n",
    "        return out"
   ]
  },
  {
   "cell_type": "code",
   "execution_count": 30,
   "metadata": {
    "id": "GVEp6FEmCuBF",
    "ExecuteTime": {
     "end_time": "2023-11-09T02:31:28.891163600Z",
     "start_time": "2023-11-09T02:31:28.828255Z"
    }
   },
   "outputs": [
    {
     "name": "stdout",
     "output_type": "stream",
     "text": [
      "NetWidthProject(\n",
      "  (conv1): Conv2d(3, 32, kernel_size=(3, 3), stride=(1, 1), padding=(1, 1))\n",
      "  (conv2): Conv2d(32, 16, kernel_size=(3, 3), stride=(1, 1), padding=(1, 1))\n",
      "  (conv3): Conv2d(16, 16, kernel_size=(1, 1), stride=(1, 1))\n",
      "  (fc1): Linear(in_features=1024, out_features=32, bias=True)\n",
      "  (fc2): Linear(in_features=32, out_features=2, bias=True)\n",
      ")\n"
     ]
    },
    {
     "data": {
      "text/plain": "(38658, [864, 32, 4608, 16, 256, 16, 32768, 32, 64, 2])"
     },
     "execution_count": 30,
     "metadata": {},
     "output_type": "execute_result"
    }
   ],
   "source": [
    "model = NetWidthProject().to(device=device)\n",
    "print(model)\n",
    "\n",
    "numel_list = [p.numel() for p in model.parameters()]\n",
    "sum(numel_list), numel_list"
   ]
  },
  {
   "cell_type": "markdown",
   "metadata": {
    "id": "2oHoJGNQCuBF"
   },
   "source": [
    "The following is an example of how to use the 1x1 layer for embedding or dimensionality reduction:"
   ]
  },
  {
   "cell_type": "code",
   "execution_count": 35,
   "metadata": {
    "id": "SjbHdi83CuBF",
    "ExecuteTime": {
     "end_time": "2023-11-09T05:23:00.593055500Z",
     "start_time": "2023-11-09T05:23:00.456529200Z"
    }
   },
   "outputs": [],
   "source": [
    "class NetWidthEmbed(nn.Module):\n",
    "    def __init__(self, n_ch1=32):\n",
    "        super().__init__()\n",
    "        # needed later in the forward function\n",
    "        self.n_ch1 = n_ch1\n",
    "        self.conv1 = nn.Conv2d(3, n_ch1, kernel_size=3, padding=1)\n",
    "        self.conv2 = nn.Conv2d(n_ch1, n_ch1 // 2, kernel_size=3,padding=1)\n",
    "        # reduces the number of filters by 2\n",
    "        self.conv3 = nn.Conv2d(n_ch1 // 2, n_ch1 // 2, kernel_size=1)\n",
    "        self.fc1 = nn.Linear(8 * 8 * n_ch1 // 2, 32)\n",
    "        self.fc2 = nn.Linear(32, 2)\n",
    "    def forward(self, x):\n",
    "        out = F.max_pool2d(torch.tanh(self.conv1(x)), 2)\n",
    "        out = F.max_pool2d(torch.tanh(self.conv2(out)), 2)\n",
    "        out = torch.tanh(self.conv3(out))\n",
    "        out = out.view(-1, 8 * 8 * self.n_ch1 // 2)\n",
    "        out = torch.tanh(self.fc1(out))\n",
    "        out = self.fc2(out)\n",
    "        return out"
   ]
  },
  {
   "cell_type": "code",
   "execution_count": 36,
   "metadata": {
    "id": "Cuh2RKYFCuBF",
    "ExecuteTime": {
     "end_time": "2023-11-09T05:23:00.862870400Z",
     "start_time": "2023-11-09T05:23:00.732871600Z"
    }
   },
   "outputs": [
    {
     "name": "stdout",
     "output_type": "stream",
     "text": [
      "NetWidthEmbed(\n",
      "  (conv1): Conv2d(3, 32, kernel_size=(3, 3), stride=(1, 1), padding=(1, 1))\n",
      "  (conv2): Conv2d(32, 16, kernel_size=(3, 3), stride=(1, 1), padding=(1, 1))\n",
      "  (conv3): Conv2d(16, 16, kernel_size=(1, 1), stride=(1, 1))\n",
      "  (fc1): Linear(in_features=1024, out_features=32, bias=True)\n",
      "  (fc2): Linear(in_features=32, out_features=2, bias=True)\n",
      ")\n"
     ]
    },
    {
     "data": {
      "text/plain": "(38658, [864, 32, 4608, 16, 256, 16, 32768, 32, 64, 2])"
     },
     "execution_count": 36,
     "metadata": {},
     "output_type": "execute_result"
    }
   ],
   "source": [
    "model = NetWidthEmbed().to(device=device)\n",
    "print(model)\n",
    "\n",
    "numel_list = [p.numel() for p in model.parameters()]\n",
    "sum(numel_list), numel_list"
   ]
  },
  {
   "cell_type": "code",
   "execution_count": 37,
   "metadata": {
    "id": "wlsoRSU-CuBG",
    "ExecuteTime": {
     "end_time": "2023-11-09T05:27:09.564916100Z",
     "start_time": "2023-11-09T05:23:01.063359200Z"
    }
   },
   "outputs": [
    {
     "name": "stdout",
     "output_type": "stream",
     "text": [
      "2023-11-09 14:23:02.356099 Epoch 1, Training loss 0.5814097430675652\n",
      "2023-11-09 14:23:07.840852 Epoch 10, Training loss 0.32408321145803304\n",
      "2023-11-09 14:23:13.940991 Epoch 20, Training loss 0.27948474570824083\n",
      "2023-11-09 14:23:19.842064 Epoch 30, Training loss 0.25834021741037916\n",
      "2023-11-09 14:23:26.310205 Epoch 40, Training loss 0.24054572873624266\n",
      "2023-11-09 14:23:32.018472 Epoch 50, Training loss 0.22078265055159854\n",
      "2023-11-09 14:23:37.732034 Epoch 60, Training loss 0.20724360858369026\n",
      "2023-11-09 14:23:43.641079 Epoch 70, Training loss 0.18559076613301684\n",
      "2023-11-09 14:23:49.675875 Epoch 80, Training loss 0.16957688364823154\n",
      "2023-11-09 14:23:55.609645 Epoch 90, Training loss 0.15524191231389714\n",
      "2023-11-09 14:24:01.546713 Epoch 100, Training loss 0.1358886757379125\n",
      "2023-11-09 14:24:07.498922 Epoch 110, Training loss 0.11889845702298887\n",
      "2023-11-09 14:24:13.583416 Epoch 120, Training loss 0.10562178404752616\n",
      "2023-11-09 14:24:19.814463 Epoch 130, Training loss 0.09051636333583267\n",
      "2023-11-09 14:24:25.755190 Epoch 140, Training loss 0.07841351137134679\n",
      "2023-11-09 14:24:31.736331 Epoch 150, Training loss 0.06533454856864966\n",
      "2023-11-09 14:24:37.683122 Epoch 160, Training loss 0.053151342347501566\n",
      "2023-11-09 14:24:43.771861 Epoch 170, Training loss 0.04314712897109188\n",
      "2023-11-09 14:24:49.933650 Epoch 180, Training loss 0.0347566199399958\n",
      "2023-11-09 14:24:56.341051 Epoch 190, Training loss 0.02838172238604848\n",
      "2023-11-09 14:25:02.821276 Epoch 200, Training loss 0.02278203667277933\n",
      "2023-11-09 14:25:09.649108 Epoch 210, Training loss 0.018331932280639743\n",
      "2023-11-09 14:25:16.418967 Epoch 220, Training loss 0.015450761208583595\n",
      "2023-11-09 14:25:23.291593 Epoch 230, Training loss 0.013086546528313285\n",
      "2023-11-09 14:25:30.690989 Epoch 240, Training loss 0.011027189379463054\n",
      "2023-11-09 14:25:37.170029 Epoch 250, Training loss 0.010688103274234636\n",
      "2023-11-09 14:25:44.038388 Epoch 260, Training loss 0.008198085978625721\n",
      "2023-11-09 14:25:50.930700 Epoch 270, Training loss 0.006666458176247254\n"
     ]
    },
    {
     "ename": "KeyboardInterrupt",
     "evalue": "",
     "output_type": "error",
     "traceback": [
      "\u001B[1;31m---------------------------------------------------------------------------\u001B[0m",
      "\u001B[1;31mKeyboardInterrupt\u001B[0m                         Traceback (most recent call last)",
      "Cell \u001B[1;32mIn[37], line 11\u001B[0m\n\u001B[0;32m      8\u001B[0m loss_fn \u001B[38;5;241m=\u001B[39m nn\u001B[38;5;241m.\u001B[39mCrossEntropyLoss()\n\u001B[0;32m     10\u001B[0m \u001B[38;5;66;03m# go for 100 epochs\u001B[39;00m\n\u001B[1;32m---> 11\u001B[0m training_loop(\n\u001B[0;32m     12\u001B[0m     n_epochs \u001B[38;5;241m=\u001B[39m \u001B[38;5;241m1000\u001B[39m,\n\u001B[0;32m     13\u001B[0m     optimizer \u001B[38;5;241m=\u001B[39m optimizer,\n\u001B[0;32m     14\u001B[0m     model \u001B[38;5;241m=\u001B[39m model,\n\u001B[0;32m     15\u001B[0m     loss_fn \u001B[38;5;241m=\u001B[39m loss_fn,\n\u001B[0;32m     16\u001B[0m     train_loader \u001B[38;5;241m=\u001B[39m train_loader,\n\u001B[0;32m     17\u001B[0m )\n",
      "Cell \u001B[1;32mIn[15], line 12\u001B[0m, in \u001B[0;36mtraining_loop\u001B[1;34m(n_epochs, optimizer, model, loss_fn, train_loader)\u001B[0m\n\u001B[0;32m     10\u001B[0m outputs \u001B[38;5;241m=\u001B[39m model(imgs)\n\u001B[0;32m     11\u001B[0m \u001B[38;5;66;03m# determine the loss\u001B[39;00m\n\u001B[1;32m---> 12\u001B[0m loss \u001B[38;5;241m=\u001B[39m loss_fn(outputs, labels\u001B[38;5;241m.\u001B[39mto(device))\n\u001B[0;32m     13\u001B[0m \u001B[38;5;66;03m# zero the gradients and determine backpropagation\u001B[39;00m\n\u001B[0;32m     14\u001B[0m optimizer\u001B[38;5;241m.\u001B[39mzero_grad()\n",
      "\u001B[1;31mKeyboardInterrupt\u001B[0m: "
     ]
    }
   ],
   "source": [
    "train_loader = torch.utils.data.DataLoader(cifar2, batch_size=64, shuffle=True)\n",
    "\n",
    "# get the model and put it onto the proper device\n",
    "model = NetWidthEmbed().to(device=device)\n",
    "# standard optimizer\n",
    "optimizer = optim.SGD(model.parameters(), lr=1e-2)\n",
    "# classification loss\n",
    "loss_fn = nn.CrossEntropyLoss()\n",
    "\n",
    "# go for 100 epochs\n",
    "training_loop(\n",
    "    n_epochs = 1000,\n",
    "    optimizer = optimizer,\n",
    "    model = model,\n",
    "    loss_fn = loss_fn,\n",
    "    train_loader = train_loader,\n",
    ")"
   ]
  },
  {
   "cell_type": "markdown",
   "metadata": {
    "id": "3TfCjp3PCuBG"
   },
   "source": [
    "Just in the same way is it can be used for dimensionality reduction, the 1x1 convolution can also be used for dimensionality increase! This can be useful for upscaling images or feature maps.\n",
    "\n",
    "The idea of using these filters was first proposed in 2013 and put to full use in the 2014 Inception architecture.\n",
    "\n",
    "In the original ResNet architecture, for example, these have also been used to introduce 3x3 \"bottleneck\" layers, in which a 1x1 convolution first decreased the dimensionality and then increased it again after the actual 3x3 convolutions like so:"
   ]
  },
  {
   "cell_type": "code",
   "execution_count": null,
   "metadata": {
    "id": "ygb4Znz4CuBG",
    "ExecuteTime": {
     "start_time": "2023-11-09T02:31:28.863114900Z"
    }
   },
   "outputs": [],
   "source": [
    "# reduces the number of filters\n",
    "self.convNNm1 = nn.Conv2d(2n_ch1, n_ch1 // 4, kernel_size=1)\n",
    "# applies 3x3 convolution\n",
    "self.convNN = nn.Conv2d(3, n_ch1 // 4, kernel_size=3, padding=1)\n",
    "# upsamples again\n",
    "self.convNNp1 = nn.Conv2d(n_ch1 // 4, n_ch1, kernel_size=1,padding=1)"
   ]
  },
  {
   "cell_type": "code",
   "execution_count": null,
   "outputs": [],
   "source": [],
   "metadata": {
    "collapsed": false
   }
  }
 ],
 "metadata": {
  "kernelspec": {
   "display_name": "Python 3",
   "language": "python",
   "name": "python3"
  },
  "language_info": {
   "codemirror_mode": {
    "name": "ipython",
    "version": 3
   },
   "file_extension": ".py",
   "mimetype": "text/x-python",
   "name": "python",
   "nbconvert_exporter": "python",
   "pygments_lexer": "ipython3",
   "version": "3.8.10"
  },
  "colab": {
   "provenance": []
  }
 },
 "nbformat": 4,
 "nbformat_minor": 0
}
